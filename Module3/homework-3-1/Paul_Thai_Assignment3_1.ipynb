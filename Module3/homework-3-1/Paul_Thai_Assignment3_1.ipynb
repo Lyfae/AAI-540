{
 "cells": [
  {
   "cell_type": "markdown",
   "id": "c66f687f-18af-4e44-b994-76f6624783f6",
   "metadata": {},
   "source": [
    "### Assignment 3: Feature Stores\n",
    "\n",
    "Credits: I used the Amazon Documentation Developer Guide to help with the feature store. Link provided [HERE](https://docs.aws.amazon.com/sagemaker/latest/dg/feature-store-fraud-detection-notebook.html)"
   ]
  },
  {
   "cell_type": "markdown",
   "id": "84a8dd38-f5e6-44d6-bdc1-035b7dd864bc",
   "metadata": {},
   "source": [
    "### Creating Feature Store Session"
   ]
  },
  {
   "cell_type": "code",
   "execution_count": 1,
   "id": "fed17316-e018-4703-9102-3676cde34c54",
   "metadata": {
    "tags": []
   },
   "outputs": [
    {
     "name": "stdout",
     "output_type": "stream",
     "text": [
      "sagemaker.config INFO - Not applying SDK defaults from location: /etc/xdg/sagemaker/config.yaml\n",
      "sagemaker.config INFO - Not applying SDK defaults from location: /root/.config/sagemaker/config.yaml\n"
     ]
    }
   ],
   "source": [
    "# Import the necessary libraries\n",
    "# Libraries for creating feature store session\n",
    "import boto3\n",
    "import sagemaker\n",
    "from sagemaker.session import Session\n",
    "from sagemaker import get_execution_role\n",
    "\n",
    "# Libraries for interacting with the dataset\n",
    "import numpy as np\n",
    "import pandas as pd\n",
    "import matplotlib.pyplot as plt\n",
    "import io\n",
    "\n",
    "# Feature Group\n",
    "import time\n",
    "from time import gmtime, strftime, sleep\n",
    "from sagemaker.feature_store.feature_group import FeatureGroup"
   ]
  },
  {
   "cell_type": "code",
   "execution_count": 2,
   "id": "9ada8d94-764a-4382-baa9-9bccf06892f6",
   "metadata": {
    "tags": []
   },
   "outputs": [],
   "source": [
    "# Helpful Functions + Variables stored here\n",
    "def encode_col(df, col):\n",
    "    names = df[col].unique()\n",
    "    values = len(names)\n",
    "    dict_pairs = dict([(key,value) for _, (key,value) in enumerate(zip(names,np.arange(values)))])\n",
    "    df[col] = df[col].map(dict_pairs)\n",
    "    df[col] = df[col].astype('float64')\n",
    "    return df, dict_pairs\n",
    "\n",
    "# def encode_col(df, col):\n",
    "#     df[col], _ = df[col].factorize()\n",
    "#     df[col] = df[col].astype('float64')\n",
    "#     return df\n",
    "\n",
    "def convert_to_strings(df):\n",
    "    for col in df.columns:\n",
    "        if df.dtypes[col] == 'object':\n",
    "            df[col] = df[col].astype(str)\n",
    "            \n",
    "def wait_for_feature_group_creation_complete(feature_group):\n",
    "    status = feature_group.describe().get(\"FeatureGroupStatus\")\n",
    "    while status == \"Creating\":\n",
    "        print(\"Waiting for Feature Group Creation\")\n",
    "        time.sleep(5)\n",
    "        status = feature_group.describe().get(\"FeatureGroupStatus\")\n",
    "    if status != \"Created\":\n",
    "        raise RuntimeError(f\"Failed to create feature group {feature_group.name}\")\n",
    "    print(f\"FeatureGroup {feature_group.name} successfully created.\")\n",
    "\n",
    "            \n",
    "time_now = int(round(time.time()))"
   ]
  },
  {
   "cell_type": "code",
   "execution_count": 3,
   "id": "a2dd5c48-758a-4291-8229-0236cb998967",
   "metadata": {
    "tags": []
   },
   "outputs": [],
   "source": [
    "# Create the session by identifying the variables\n",
    "region = boto3.Session().region_name\n",
    "\n",
    "boto_session = boto3.Session(region_name=region)\n",
    "\n",
    "sagemaker_client = boto_session.client(service_name=\"sagemaker\", region_name=region)\n",
    "featurestore_runtime = boto_session.client(\n",
    "    service_name=\"sagemaker-featurestore-runtime\", region_name=region\n",
    ")\n",
    "\n",
    "feature_store_session = Session(\n",
    "    boto_session=boto_session,\n",
    "    sagemaker_client=sagemaker_client,\n",
    "    sagemaker_featurestore_runtime_client=featurestore_runtime,\n",
    ")"
   ]
  },
  {
   "cell_type": "code",
   "execution_count": 4,
   "id": "4ee4462e-4e81-44b8-9025-3e77f509d55c",
   "metadata": {},
   "outputs": [
    {
     "name": "stdout",
     "output_type": "stream",
     "text": [
      "sagemaker-us-east-1-004608622582\n"
     ]
    }
   ],
   "source": [
    "# Creating default bucket\n",
    "default_s3_bucket_name = feature_store_session.default_bucket()\n",
    "prefix = \"sagemaker-featurestore-demo\"\n",
    "\n",
    "print(default_s3_bucket_name)"
   ]
  },
  {
   "cell_type": "code",
   "execution_count": 5,
   "id": "97c8aa19-4dc8-44ec-b762-e263bc5a788f",
   "metadata": {},
   "outputs": [
    {
     "name": "stdout",
     "output_type": "stream",
     "text": [
      "arn:aws:iam::004608622582:role/LabRole\n"
     ]
    }
   ],
   "source": [
    "# Grab Role\n",
    "role = get_execution_role()\n",
    "print(role)"
   ]
  },
  {
   "cell_type": "code",
   "execution_count": 6,
   "id": "0d19d8d1-a3b3-4668-aa20-c10f8b6e3a5d",
   "metadata": {
    "tags": []
   },
   "outputs": [],
   "source": [
    "# Start the client + feature store runtime\n",
    "sagemaker_client = boto_session.client(service_name='sagemaker', region_name=region)\n",
    "featurestore_runtime = boto_session.client(service_name='sagemaker-featurestore-runtime', region_name=region)"
   ]
  },
  {
   "cell_type": "code",
   "execution_count": 7,
   "id": "f1f7acb4-5469-4c2d-afb4-7ad45b894048",
   "metadata": {
    "tags": []
   },
   "outputs": [],
   "source": [
    "# Create feature store session\n",
    "feature_store_session = Session(boto_session=boto_session, sagemaker_client=sagemaker_client, sagemaker_featurestore_runtime_client=featurestore_runtime)"
   ]
  },
  {
   "cell_type": "markdown",
   "id": "35d917da-072d-4e04-8640-2225be054fea",
   "metadata": {},
   "source": [
    "### Loading Data and Partitioning it into DataGroups"
   ]
  },
  {
   "cell_type": "code",
   "execution_count": 8,
   "id": "d730b17f-3ef2-42fe-bd98-5c3afb93ab75",
   "metadata": {
    "tags": []
   },
   "outputs": [],
   "source": [
    "# Reading in the data\n",
    "housing_df = pd.read_csv('housing.csv')\n",
    "housing_gmaps_df =  pd.read_csv('housing_gmaps_data_raw.csv')"
   ]
  },
  {
   "cell_type": "code",
   "execution_count": 9,
   "id": "5a56b1d4-982b-4e94-90c1-a46009cb35c2",
   "metadata": {
    "tags": []
   },
   "outputs": [
    {
     "data": {
      "text/html": [
       "<div>\n",
       "<style scoped>\n",
       "    .dataframe tbody tr th:only-of-type {\n",
       "        vertical-align: middle;\n",
       "    }\n",
       "\n",
       "    .dataframe tbody tr th {\n",
       "        vertical-align: top;\n",
       "    }\n",
       "\n",
       "    .dataframe thead th {\n",
       "        text-align: right;\n",
       "    }\n",
       "</style>\n",
       "<table border=\"1\" class=\"dataframe\">\n",
       "  <thead>\n",
       "    <tr style=\"text-align: right;\">\n",
       "      <th></th>\n",
       "      <th>longitude</th>\n",
       "      <th>latitude</th>\n",
       "      <th>housing_median_age</th>\n",
       "      <th>total_rooms</th>\n",
       "      <th>total_bedrooms</th>\n",
       "      <th>population</th>\n",
       "      <th>households</th>\n",
       "      <th>median_income</th>\n",
       "      <th>median_house_value</th>\n",
       "      <th>ocean_proximity</th>\n",
       "    </tr>\n",
       "  </thead>\n",
       "  <tbody>\n",
       "    <tr>\n",
       "      <th>0</th>\n",
       "      <td>-122.23</td>\n",
       "      <td>37.88</td>\n",
       "      <td>41.0</td>\n",
       "      <td>880.0</td>\n",
       "      <td>129.0</td>\n",
       "      <td>322.0</td>\n",
       "      <td>126.0</td>\n",
       "      <td>8.3252</td>\n",
       "      <td>452600.0</td>\n",
       "      <td>NEAR BAY</td>\n",
       "    </tr>\n",
       "    <tr>\n",
       "      <th>1</th>\n",
       "      <td>-122.22</td>\n",
       "      <td>37.86</td>\n",
       "      <td>21.0</td>\n",
       "      <td>7099.0</td>\n",
       "      <td>1106.0</td>\n",
       "      <td>2401.0</td>\n",
       "      <td>1138.0</td>\n",
       "      <td>8.3014</td>\n",
       "      <td>358500.0</td>\n",
       "      <td>NEAR BAY</td>\n",
       "    </tr>\n",
       "    <tr>\n",
       "      <th>2</th>\n",
       "      <td>-122.24</td>\n",
       "      <td>37.85</td>\n",
       "      <td>52.0</td>\n",
       "      <td>1467.0</td>\n",
       "      <td>190.0</td>\n",
       "      <td>496.0</td>\n",
       "      <td>177.0</td>\n",
       "      <td>7.2574</td>\n",
       "      <td>352100.0</td>\n",
       "      <td>NEAR BAY</td>\n",
       "    </tr>\n",
       "    <tr>\n",
       "      <th>3</th>\n",
       "      <td>-122.25</td>\n",
       "      <td>37.85</td>\n",
       "      <td>52.0</td>\n",
       "      <td>1274.0</td>\n",
       "      <td>235.0</td>\n",
       "      <td>558.0</td>\n",
       "      <td>219.0</td>\n",
       "      <td>5.6431</td>\n",
       "      <td>341300.0</td>\n",
       "      <td>NEAR BAY</td>\n",
       "    </tr>\n",
       "    <tr>\n",
       "      <th>4</th>\n",
       "      <td>-122.25</td>\n",
       "      <td>37.85</td>\n",
       "      <td>52.0</td>\n",
       "      <td>1627.0</td>\n",
       "      <td>280.0</td>\n",
       "      <td>565.0</td>\n",
       "      <td>259.0</td>\n",
       "      <td>3.8462</td>\n",
       "      <td>342200.0</td>\n",
       "      <td>NEAR BAY</td>\n",
       "    </tr>\n",
       "  </tbody>\n",
       "</table>\n",
       "</div>"
      ],
      "text/plain": [
       "   longitude  latitude  housing_median_age  total_rooms  total_bedrooms  \\\n",
       "0    -122.23     37.88                41.0        880.0           129.0   \n",
       "1    -122.22     37.86                21.0       7099.0          1106.0   \n",
       "2    -122.24     37.85                52.0       1467.0           190.0   \n",
       "3    -122.25     37.85                52.0       1274.0           235.0   \n",
       "4    -122.25     37.85                52.0       1627.0           280.0   \n",
       "\n",
       "   population  households  median_income  median_house_value ocean_proximity  \n",
       "0       322.0       126.0         8.3252            452600.0        NEAR BAY  \n",
       "1      2401.0      1138.0         8.3014            358500.0        NEAR BAY  \n",
       "2       496.0       177.0         7.2574            352100.0        NEAR BAY  \n",
       "3       558.0       219.0         5.6431            341300.0        NEAR BAY  \n",
       "4       565.0       259.0         3.8462            342200.0        NEAR BAY  "
      ]
     },
     "execution_count": 9,
     "metadata": {},
     "output_type": "execute_result"
    }
   ],
   "source": [
    "housing_df.head()"
   ]
  },
  {
   "cell_type": "code",
   "execution_count": 10,
   "id": "211b34c0-3404-43b4-abcf-19efe003d62f",
   "metadata": {
    "tags": []
   },
   "outputs": [
    {
     "data": {
      "text/html": [
       "<div>\n",
       "<style scoped>\n",
       "    .dataframe tbody tr th:only-of-type {\n",
       "        vertical-align: middle;\n",
       "    }\n",
       "\n",
       "    .dataframe tbody tr th {\n",
       "        vertical-align: top;\n",
       "    }\n",
       "\n",
       "    .dataframe thead th {\n",
       "        text-align: right;\n",
       "    }\n",
       "</style>\n",
       "<table border=\"1\" class=\"dataframe\">\n",
       "  <thead>\n",
       "    <tr style=\"text-align: right;\">\n",
       "      <th></th>\n",
       "      <th>street_number</th>\n",
       "      <th>route</th>\n",
       "      <th>locality-political</th>\n",
       "      <th>administrative_area_level_2-political</th>\n",
       "      <th>administrative_area_level_1-political</th>\n",
       "      <th>country-political</th>\n",
       "      <th>postal_code</th>\n",
       "      <th>address</th>\n",
       "      <th>longitude</th>\n",
       "      <th>latitude</th>\n",
       "      <th>...</th>\n",
       "      <th>establishment-natural_feature</th>\n",
       "      <th>airport-establishment-point_of_interest</th>\n",
       "      <th>political-sublocality-sublocality_level_1</th>\n",
       "      <th>administrative_area_level_3-political</th>\n",
       "      <th>post_box</th>\n",
       "      <th>establishment-light_rail_station-point_of_interest-transit_station</th>\n",
       "      <th>establishment-point_of_interest</th>\n",
       "      <th>aquarium-establishment-park-point_of_interest-tourist_attraction-zoo</th>\n",
       "      <th>campground-establishment-lodging-park-point_of_interest-rv_park-tourist_attraction</th>\n",
       "      <th>cemetery-establishment-park-point_of_interest</th>\n",
       "    </tr>\n",
       "  </thead>\n",
       "  <tbody>\n",
       "    <tr>\n",
       "      <th>0</th>\n",
       "      <td>3130</td>\n",
       "      <td>Grizzly Peak Boulevard</td>\n",
       "      <td>Berkeley</td>\n",
       "      <td>Alameda County</td>\n",
       "      <td>California</td>\n",
       "      <td>United States</td>\n",
       "      <td>94705.0</td>\n",
       "      <td>3130 Grizzly Peak Blvd, Berkeley, CA 94705, USA</td>\n",
       "      <td>-122.23</td>\n",
       "      <td>37.88</td>\n",
       "      <td>...</td>\n",
       "      <td>NaN</td>\n",
       "      <td>NaN</td>\n",
       "      <td>NaN</td>\n",
       "      <td>NaN</td>\n",
       "      <td>NaN</td>\n",
       "      <td>NaN</td>\n",
       "      <td>NaN</td>\n",
       "      <td>NaN</td>\n",
       "      <td>NaN</td>\n",
       "      <td>NaN</td>\n",
       "    </tr>\n",
       "    <tr>\n",
       "      <th>1</th>\n",
       "      <td>2005</td>\n",
       "      <td>Tunnel Road</td>\n",
       "      <td>Oakland</td>\n",
       "      <td>Alameda County</td>\n",
       "      <td>California</td>\n",
       "      <td>United States</td>\n",
       "      <td>94611.0</td>\n",
       "      <td>2005 Tunnel Rd, Oakland, CA 94611, USA</td>\n",
       "      <td>-122.22</td>\n",
       "      <td>37.86</td>\n",
       "      <td>...</td>\n",
       "      <td>NaN</td>\n",
       "      <td>NaN</td>\n",
       "      <td>NaN</td>\n",
       "      <td>NaN</td>\n",
       "      <td>NaN</td>\n",
       "      <td>NaN</td>\n",
       "      <td>NaN</td>\n",
       "      <td>NaN</td>\n",
       "      <td>NaN</td>\n",
       "      <td>NaN</td>\n",
       "    </tr>\n",
       "    <tr>\n",
       "      <th>2</th>\n",
       "      <td>6886</td>\n",
       "      <td>Chabot Road</td>\n",
       "      <td>Oakland</td>\n",
       "      <td>Alameda County</td>\n",
       "      <td>California</td>\n",
       "      <td>United States</td>\n",
       "      <td>94618.0</td>\n",
       "      <td>6886 Chabot Rd, Oakland, CA 94618, USA</td>\n",
       "      <td>-122.24</td>\n",
       "      <td>37.85</td>\n",
       "      <td>...</td>\n",
       "      <td>NaN</td>\n",
       "      <td>NaN</td>\n",
       "      <td>NaN</td>\n",
       "      <td>NaN</td>\n",
       "      <td>NaN</td>\n",
       "      <td>NaN</td>\n",
       "      <td>NaN</td>\n",
       "      <td>NaN</td>\n",
       "      <td>NaN</td>\n",
       "      <td>NaN</td>\n",
       "    </tr>\n",
       "    <tr>\n",
       "      <th>3</th>\n",
       "      <td>6365</td>\n",
       "      <td>Florio Street</td>\n",
       "      <td>Oakland</td>\n",
       "      <td>Alameda County</td>\n",
       "      <td>California</td>\n",
       "      <td>United States</td>\n",
       "      <td>94618.0</td>\n",
       "      <td>6365 Florio St, Oakland, CA 94618, USA</td>\n",
       "      <td>-122.25</td>\n",
       "      <td>37.85</td>\n",
       "      <td>...</td>\n",
       "      <td>NaN</td>\n",
       "      <td>NaN</td>\n",
       "      <td>NaN</td>\n",
       "      <td>NaN</td>\n",
       "      <td>NaN</td>\n",
       "      <td>NaN</td>\n",
       "      <td>NaN</td>\n",
       "      <td>NaN</td>\n",
       "      <td>NaN</td>\n",
       "      <td>NaN</td>\n",
       "    </tr>\n",
       "    <tr>\n",
       "      <th>4</th>\n",
       "      <td>5407</td>\n",
       "      <td>Bryant Avenue</td>\n",
       "      <td>Oakland</td>\n",
       "      <td>Alameda County</td>\n",
       "      <td>California</td>\n",
       "      <td>United States</td>\n",
       "      <td>94618.0</td>\n",
       "      <td>5407 Bryant Ave, Oakland, CA 94618, USA</td>\n",
       "      <td>-122.25</td>\n",
       "      <td>37.84</td>\n",
       "      <td>...</td>\n",
       "      <td>NaN</td>\n",
       "      <td>NaN</td>\n",
       "      <td>NaN</td>\n",
       "      <td>NaN</td>\n",
       "      <td>NaN</td>\n",
       "      <td>NaN</td>\n",
       "      <td>NaN</td>\n",
       "      <td>NaN</td>\n",
       "      <td>NaN</td>\n",
       "      <td>NaN</td>\n",
       "    </tr>\n",
       "  </tbody>\n",
       "</table>\n",
       "<p>5 rows × 30 columns</p>\n",
       "</div>"
      ],
      "text/plain": [
       "  street_number                   route locality-political  \\\n",
       "0          3130  Grizzly Peak Boulevard           Berkeley   \n",
       "1          2005             Tunnel Road            Oakland   \n",
       "2          6886             Chabot Road            Oakland   \n",
       "3          6365           Florio Street            Oakland   \n",
       "4          5407           Bryant Avenue            Oakland   \n",
       "\n",
       "  administrative_area_level_2-political administrative_area_level_1-political  \\\n",
       "0                        Alameda County                            California   \n",
       "1                        Alameda County                            California   \n",
       "2                        Alameda County                            California   \n",
       "3                        Alameda County                            California   \n",
       "4                        Alameda County                            California   \n",
       "\n",
       "  country-political  postal_code  \\\n",
       "0     United States      94705.0   \n",
       "1     United States      94611.0   \n",
       "2     United States      94618.0   \n",
       "3     United States      94618.0   \n",
       "4     United States      94618.0   \n",
       "\n",
       "                                           address  longitude  latitude  ...  \\\n",
       "0  3130 Grizzly Peak Blvd, Berkeley, CA 94705, USA    -122.23     37.88  ...   \n",
       "1           2005 Tunnel Rd, Oakland, CA 94611, USA    -122.22     37.86  ...   \n",
       "2           6886 Chabot Rd, Oakland, CA 94618, USA    -122.24     37.85  ...   \n",
       "3           6365 Florio St, Oakland, CA 94618, USA    -122.25     37.85  ...   \n",
       "4          5407 Bryant Ave, Oakland, CA 94618, USA    -122.25     37.84  ...   \n",
       "\n",
       "  establishment-natural_feature  airport-establishment-point_of_interest  \\\n",
       "0                           NaN                                      NaN   \n",
       "1                           NaN                                      NaN   \n",
       "2                           NaN                                      NaN   \n",
       "3                           NaN                                      NaN   \n",
       "4                           NaN                                      NaN   \n",
       "\n",
       "  political-sublocality-sublocality_level_1  \\\n",
       "0                                       NaN   \n",
       "1                                       NaN   \n",
       "2                                       NaN   \n",
       "3                                       NaN   \n",
       "4                                       NaN   \n",
       "\n",
       "  administrative_area_level_3-political post_box  \\\n",
       "0                                   NaN      NaN   \n",
       "1                                   NaN      NaN   \n",
       "2                                   NaN      NaN   \n",
       "3                                   NaN      NaN   \n",
       "4                                   NaN      NaN   \n",
       "\n",
       "  establishment-light_rail_station-point_of_interest-transit_station  \\\n",
       "0                                                NaN                   \n",
       "1                                                NaN                   \n",
       "2                                                NaN                   \n",
       "3                                                NaN                   \n",
       "4                                                NaN                   \n",
       "\n",
       "  establishment-point_of_interest  \\\n",
       "0                             NaN   \n",
       "1                             NaN   \n",
       "2                             NaN   \n",
       "3                             NaN   \n",
       "4                             NaN   \n",
       "\n",
       "  aquarium-establishment-park-point_of_interest-tourist_attraction-zoo  \\\n",
       "0                                                NaN                     \n",
       "1                                                NaN                     \n",
       "2                                                NaN                     \n",
       "3                                                NaN                     \n",
       "4                                                NaN                     \n",
       "\n",
       "  campground-establishment-lodging-park-point_of_interest-rv_park-tourist_attraction  \\\n",
       "0                                                NaN                                   \n",
       "1                                                NaN                                   \n",
       "2                                                NaN                                   \n",
       "3                                                NaN                                   \n",
       "4                                                NaN                                   \n",
       "\n",
       "  cemetery-establishment-park-point_of_interest  \n",
       "0                                           NaN  \n",
       "1                                           NaN  \n",
       "2                                           NaN  \n",
       "3                                           NaN  \n",
       "4                                           NaN  \n",
       "\n",
       "[5 rows x 30 columns]"
      ]
     },
     "execution_count": 10,
     "metadata": {},
     "output_type": "execute_result"
    }
   ],
   "source": [
    "housing_gmaps_df.head()"
   ]
  },
  {
   "cell_type": "code",
   "execution_count": 11,
   "id": "a11d88b0-bf0e-48f1-867f-ef39eef370d5",
   "metadata": {
    "tags": []
   },
   "outputs": [
    {
     "data": {
      "text/html": [
       "<div>\n",
       "<style scoped>\n",
       "    .dataframe tbody tr th:only-of-type {\n",
       "        vertical-align: middle;\n",
       "    }\n",
       "\n",
       "    .dataframe tbody tr th {\n",
       "        vertical-align: top;\n",
       "    }\n",
       "\n",
       "    .dataframe thead th {\n",
       "        text-align: right;\n",
       "    }\n",
       "</style>\n",
       "<table border=\"1\" class=\"dataframe\">\n",
       "  <thead>\n",
       "    <tr style=\"text-align: right;\">\n",
       "      <th></th>\n",
       "      <th>longitude</th>\n",
       "      <th>latitude</th>\n",
       "      <th>housing_median_age</th>\n",
       "      <th>total_rooms</th>\n",
       "      <th>total_bedrooms</th>\n",
       "      <th>population</th>\n",
       "      <th>households</th>\n",
       "      <th>median_income</th>\n",
       "      <th>median_house_value</th>\n",
       "    </tr>\n",
       "  </thead>\n",
       "  <tbody>\n",
       "    <tr>\n",
       "      <th>count</th>\n",
       "      <td>20640.000000</td>\n",
       "      <td>20640.000000</td>\n",
       "      <td>20640.000000</td>\n",
       "      <td>20640.000000</td>\n",
       "      <td>20433.000000</td>\n",
       "      <td>20640.000000</td>\n",
       "      <td>20640.000000</td>\n",
       "      <td>20640.000000</td>\n",
       "      <td>20640.000000</td>\n",
       "    </tr>\n",
       "    <tr>\n",
       "      <th>mean</th>\n",
       "      <td>-119.569704</td>\n",
       "      <td>35.631861</td>\n",
       "      <td>28.639486</td>\n",
       "      <td>2635.763081</td>\n",
       "      <td>537.870553</td>\n",
       "      <td>1425.476744</td>\n",
       "      <td>499.539680</td>\n",
       "      <td>3.870671</td>\n",
       "      <td>206855.816909</td>\n",
       "    </tr>\n",
       "    <tr>\n",
       "      <th>std</th>\n",
       "      <td>2.003532</td>\n",
       "      <td>2.135952</td>\n",
       "      <td>12.585558</td>\n",
       "      <td>2181.615252</td>\n",
       "      <td>421.385070</td>\n",
       "      <td>1132.462122</td>\n",
       "      <td>382.329753</td>\n",
       "      <td>1.899822</td>\n",
       "      <td>115395.615874</td>\n",
       "    </tr>\n",
       "    <tr>\n",
       "      <th>min</th>\n",
       "      <td>-124.350000</td>\n",
       "      <td>32.540000</td>\n",
       "      <td>1.000000</td>\n",
       "      <td>2.000000</td>\n",
       "      <td>1.000000</td>\n",
       "      <td>3.000000</td>\n",
       "      <td>1.000000</td>\n",
       "      <td>0.499900</td>\n",
       "      <td>14999.000000</td>\n",
       "    </tr>\n",
       "    <tr>\n",
       "      <th>25%</th>\n",
       "      <td>-121.800000</td>\n",
       "      <td>33.930000</td>\n",
       "      <td>18.000000</td>\n",
       "      <td>1447.750000</td>\n",
       "      <td>296.000000</td>\n",
       "      <td>787.000000</td>\n",
       "      <td>280.000000</td>\n",
       "      <td>2.563400</td>\n",
       "      <td>119600.000000</td>\n",
       "    </tr>\n",
       "    <tr>\n",
       "      <th>50%</th>\n",
       "      <td>-118.490000</td>\n",
       "      <td>34.260000</td>\n",
       "      <td>29.000000</td>\n",
       "      <td>2127.000000</td>\n",
       "      <td>435.000000</td>\n",
       "      <td>1166.000000</td>\n",
       "      <td>409.000000</td>\n",
       "      <td>3.534800</td>\n",
       "      <td>179700.000000</td>\n",
       "    </tr>\n",
       "    <tr>\n",
       "      <th>75%</th>\n",
       "      <td>-118.010000</td>\n",
       "      <td>37.710000</td>\n",
       "      <td>37.000000</td>\n",
       "      <td>3148.000000</td>\n",
       "      <td>647.000000</td>\n",
       "      <td>1725.000000</td>\n",
       "      <td>605.000000</td>\n",
       "      <td>4.743250</td>\n",
       "      <td>264725.000000</td>\n",
       "    </tr>\n",
       "    <tr>\n",
       "      <th>max</th>\n",
       "      <td>-114.310000</td>\n",
       "      <td>41.950000</td>\n",
       "      <td>52.000000</td>\n",
       "      <td>39320.000000</td>\n",
       "      <td>6445.000000</td>\n",
       "      <td>35682.000000</td>\n",
       "      <td>6082.000000</td>\n",
       "      <td>15.000100</td>\n",
       "      <td>500001.000000</td>\n",
       "    </tr>\n",
       "  </tbody>\n",
       "</table>\n",
       "</div>"
      ],
      "text/plain": [
       "          longitude      latitude  housing_median_age   total_rooms  \\\n",
       "count  20640.000000  20640.000000        20640.000000  20640.000000   \n",
       "mean    -119.569704     35.631861           28.639486   2635.763081   \n",
       "std        2.003532      2.135952           12.585558   2181.615252   \n",
       "min     -124.350000     32.540000            1.000000      2.000000   \n",
       "25%     -121.800000     33.930000           18.000000   1447.750000   \n",
       "50%     -118.490000     34.260000           29.000000   2127.000000   \n",
       "75%     -118.010000     37.710000           37.000000   3148.000000   \n",
       "max     -114.310000     41.950000           52.000000  39320.000000   \n",
       "\n",
       "       total_bedrooms    population    households  median_income  \\\n",
       "count    20433.000000  20640.000000  20640.000000   20640.000000   \n",
       "mean       537.870553   1425.476744    499.539680       3.870671   \n",
       "std        421.385070   1132.462122    382.329753       1.899822   \n",
       "min          1.000000      3.000000      1.000000       0.499900   \n",
       "25%        296.000000    787.000000    280.000000       2.563400   \n",
       "50%        435.000000   1166.000000    409.000000       3.534800   \n",
       "75%        647.000000   1725.000000    605.000000       4.743250   \n",
       "max       6445.000000  35682.000000   6082.000000      15.000100   \n",
       "\n",
       "       median_house_value  \n",
       "count        20640.000000  \n",
       "mean        206855.816909  \n",
       "std         115395.615874  \n",
       "min          14999.000000  \n",
       "25%         119600.000000  \n",
       "50%         179700.000000  \n",
       "75%         264725.000000  \n",
       "max         500001.000000  "
      ]
     },
     "execution_count": 11,
     "metadata": {},
     "output_type": "execute_result"
    }
   ],
   "source": [
    "housing_df.describe()"
   ]
  },
  {
   "cell_type": "code",
   "execution_count": 12,
   "id": "cb5026b1-3c59-4708-b4e9-2e440618c5f7",
   "metadata": {
    "tags": []
   },
   "outputs": [
    {
     "data": {
      "text/html": [
       "<div>\n",
       "<style scoped>\n",
       "    .dataframe tbody tr th:only-of-type {\n",
       "        vertical-align: middle;\n",
       "    }\n",
       "\n",
       "    .dataframe tbody tr th {\n",
       "        vertical-align: top;\n",
       "    }\n",
       "\n",
       "    .dataframe thead th {\n",
       "        text-align: right;\n",
       "    }\n",
       "</style>\n",
       "<table border=\"1\" class=\"dataframe\">\n",
       "  <thead>\n",
       "    <tr style=\"text-align: right;\">\n",
       "      <th></th>\n",
       "      <th>postal_code</th>\n",
       "      <th>longitude</th>\n",
       "      <th>latitude</th>\n",
       "      <th>postal_code_suffix</th>\n",
       "    </tr>\n",
       "  </thead>\n",
       "  <tbody>\n",
       "    <tr>\n",
       "      <th>count</th>\n",
       "      <td>12410.000000</td>\n",
       "      <td>12590.000000</td>\n",
       "      <td>12590.000000</td>\n",
       "      <td>7999.000000</td>\n",
       "    </tr>\n",
       "    <tr>\n",
       "      <th>mean</th>\n",
       "      <td>93348.943836</td>\n",
       "      <td>-119.676724</td>\n",
       "      <td>35.895577</td>\n",
       "      <td>4177.914614</td>\n",
       "    </tr>\n",
       "    <tr>\n",
       "      <th>std</th>\n",
       "      <td>1765.572652</td>\n",
       "      <td>2.042677</td>\n",
       "      <td>2.219248</td>\n",
       "      <td>2474.063791</td>\n",
       "    </tr>\n",
       "    <tr>\n",
       "      <th>min</th>\n",
       "      <td>85344.000000</td>\n",
       "      <td>-124.350000</td>\n",
       "      <td>32.540000</td>\n",
       "      <td>110.000000</td>\n",
       "    </tr>\n",
       "    <tr>\n",
       "      <th>25%</th>\n",
       "      <td>92054.000000</td>\n",
       "      <td>-121.760000</td>\n",
       "      <td>33.970000</td>\n",
       "      <td>2230.500000</td>\n",
       "    </tr>\n",
       "    <tr>\n",
       "      <th>50%</th>\n",
       "      <td>93301.000000</td>\n",
       "      <td>-119.270000</td>\n",
       "      <td>35.340000</td>\n",
       "      <td>3556.000000</td>\n",
       "    </tr>\n",
       "    <tr>\n",
       "      <th>75%</th>\n",
       "      <td>95050.000000</td>\n",
       "      <td>-117.950000</td>\n",
       "      <td>37.810000</td>\n",
       "      <td>5529.000000</td>\n",
       "    </tr>\n",
       "    <tr>\n",
       "      <th>max</th>\n",
       "      <td>96161.000000</td>\n",
       "      <td>-114.310000</td>\n",
       "      <td>41.950000</td>\n",
       "      <td>9859.000000</td>\n",
       "    </tr>\n",
       "  </tbody>\n",
       "</table>\n",
       "</div>"
      ],
      "text/plain": [
       "        postal_code     longitude      latitude  postal_code_suffix\n",
       "count  12410.000000  12590.000000  12590.000000         7999.000000\n",
       "mean   93348.943836   -119.676724     35.895577         4177.914614\n",
       "std     1765.572652      2.042677      2.219248         2474.063791\n",
       "min    85344.000000   -124.350000     32.540000          110.000000\n",
       "25%    92054.000000   -121.760000     33.970000         2230.500000\n",
       "50%    93301.000000   -119.270000     35.340000         3556.000000\n",
       "75%    95050.000000   -117.950000     37.810000         5529.000000\n",
       "max    96161.000000   -114.310000     41.950000         9859.000000"
      ]
     },
     "execution_count": 12,
     "metadata": {},
     "output_type": "execute_result"
    }
   ],
   "source": [
    "housing_gmaps_df.describe()"
   ]
  },
  {
   "cell_type": "code",
   "execution_count": 13,
   "id": "9e38f2de-6704-4dfc-b2f2-8499aa899e61",
   "metadata": {
    "tags": []
   },
   "outputs": [],
   "source": [
    "df = pd.merge(housing_gmaps_df, housing_df, left_on=['longitude', 'latitude'], right_on=['longitude', 'latitude'], how='right')"
   ]
  },
  {
   "cell_type": "code",
   "execution_count": 14,
   "id": "290166dc-fc32-41ad-962e-ece7f01111a9",
   "metadata": {
    "tags": []
   },
   "outputs": [
    {
     "data": {
      "text/html": [
       "<div>\n",
       "<style scoped>\n",
       "    .dataframe tbody tr th:only-of-type {\n",
       "        vertical-align: middle;\n",
       "    }\n",
       "\n",
       "    .dataframe tbody tr th {\n",
       "        vertical-align: top;\n",
       "    }\n",
       "\n",
       "    .dataframe thead th {\n",
       "        text-align: right;\n",
       "    }\n",
       "</style>\n",
       "<table border=\"1\" class=\"dataframe\">\n",
       "  <thead>\n",
       "    <tr style=\"text-align: right;\">\n",
       "      <th></th>\n",
       "      <th>street_number</th>\n",
       "      <th>route</th>\n",
       "      <th>locality-political</th>\n",
       "      <th>administrative_area_level_2-political</th>\n",
       "      <th>administrative_area_level_1-political</th>\n",
       "      <th>country-political</th>\n",
       "      <th>postal_code</th>\n",
       "      <th>address</th>\n",
       "      <th>longitude</th>\n",
       "      <th>latitude</th>\n",
       "      <th>...</th>\n",
       "      <th>campground-establishment-lodging-park-point_of_interest-rv_park-tourist_attraction</th>\n",
       "      <th>cemetery-establishment-park-point_of_interest</th>\n",
       "      <th>housing_median_age</th>\n",
       "      <th>total_rooms</th>\n",
       "      <th>total_bedrooms</th>\n",
       "      <th>population</th>\n",
       "      <th>households</th>\n",
       "      <th>median_income</th>\n",
       "      <th>median_house_value</th>\n",
       "      <th>ocean_proximity</th>\n",
       "    </tr>\n",
       "  </thead>\n",
       "  <tbody>\n",
       "    <tr>\n",
       "      <th>0</th>\n",
       "      <td>3130</td>\n",
       "      <td>Grizzly Peak Boulevard</td>\n",
       "      <td>Berkeley</td>\n",
       "      <td>Alameda County</td>\n",
       "      <td>California</td>\n",
       "      <td>United States</td>\n",
       "      <td>94705.0</td>\n",
       "      <td>3130 Grizzly Peak Blvd, Berkeley, CA 94705, USA</td>\n",
       "      <td>-122.23</td>\n",
       "      <td>37.88</td>\n",
       "      <td>...</td>\n",
       "      <td>NaN</td>\n",
       "      <td>NaN</td>\n",
       "      <td>41.0</td>\n",
       "      <td>880.0</td>\n",
       "      <td>129.0</td>\n",
       "      <td>322.0</td>\n",
       "      <td>126.0</td>\n",
       "      <td>8.3252</td>\n",
       "      <td>452600.0</td>\n",
       "      <td>NEAR BAY</td>\n",
       "    </tr>\n",
       "    <tr>\n",
       "      <th>1</th>\n",
       "      <td>2005</td>\n",
       "      <td>Tunnel Road</td>\n",
       "      <td>Oakland</td>\n",
       "      <td>Alameda County</td>\n",
       "      <td>California</td>\n",
       "      <td>United States</td>\n",
       "      <td>94611.0</td>\n",
       "      <td>2005 Tunnel Rd, Oakland, CA 94611, USA</td>\n",
       "      <td>-122.22</td>\n",
       "      <td>37.86</td>\n",
       "      <td>...</td>\n",
       "      <td>NaN</td>\n",
       "      <td>NaN</td>\n",
       "      <td>21.0</td>\n",
       "      <td>7099.0</td>\n",
       "      <td>1106.0</td>\n",
       "      <td>2401.0</td>\n",
       "      <td>1138.0</td>\n",
       "      <td>8.3014</td>\n",
       "      <td>358500.0</td>\n",
       "      <td>NEAR BAY</td>\n",
       "    </tr>\n",
       "    <tr>\n",
       "      <th>2</th>\n",
       "      <td>6886</td>\n",
       "      <td>Chabot Road</td>\n",
       "      <td>Oakland</td>\n",
       "      <td>Alameda County</td>\n",
       "      <td>California</td>\n",
       "      <td>United States</td>\n",
       "      <td>94618.0</td>\n",
       "      <td>6886 Chabot Rd, Oakland, CA 94618, USA</td>\n",
       "      <td>-122.24</td>\n",
       "      <td>37.85</td>\n",
       "      <td>...</td>\n",
       "      <td>NaN</td>\n",
       "      <td>NaN</td>\n",
       "      <td>52.0</td>\n",
       "      <td>1467.0</td>\n",
       "      <td>190.0</td>\n",
       "      <td>496.0</td>\n",
       "      <td>177.0</td>\n",
       "      <td>7.2574</td>\n",
       "      <td>352100.0</td>\n",
       "      <td>NEAR BAY</td>\n",
       "    </tr>\n",
       "    <tr>\n",
       "      <th>3</th>\n",
       "      <td>6365</td>\n",
       "      <td>Florio Street</td>\n",
       "      <td>Oakland</td>\n",
       "      <td>Alameda County</td>\n",
       "      <td>California</td>\n",
       "      <td>United States</td>\n",
       "      <td>94618.0</td>\n",
       "      <td>6365 Florio St, Oakland, CA 94618, USA</td>\n",
       "      <td>-122.25</td>\n",
       "      <td>37.85</td>\n",
       "      <td>...</td>\n",
       "      <td>NaN</td>\n",
       "      <td>NaN</td>\n",
       "      <td>52.0</td>\n",
       "      <td>1274.0</td>\n",
       "      <td>235.0</td>\n",
       "      <td>558.0</td>\n",
       "      <td>219.0</td>\n",
       "      <td>5.6431</td>\n",
       "      <td>341300.0</td>\n",
       "      <td>NEAR BAY</td>\n",
       "    </tr>\n",
       "    <tr>\n",
       "      <th>4</th>\n",
       "      <td>6365</td>\n",
       "      <td>Florio Street</td>\n",
       "      <td>Oakland</td>\n",
       "      <td>Alameda County</td>\n",
       "      <td>California</td>\n",
       "      <td>United States</td>\n",
       "      <td>94618.0</td>\n",
       "      <td>6365 Florio St, Oakland, CA 94618, USA</td>\n",
       "      <td>-122.25</td>\n",
       "      <td>37.85</td>\n",
       "      <td>...</td>\n",
       "      <td>NaN</td>\n",
       "      <td>NaN</td>\n",
       "      <td>52.0</td>\n",
       "      <td>1627.0</td>\n",
       "      <td>280.0</td>\n",
       "      <td>565.0</td>\n",
       "      <td>259.0</td>\n",
       "      <td>3.8462</td>\n",
       "      <td>342200.0</td>\n",
       "      <td>NEAR BAY</td>\n",
       "    </tr>\n",
       "  </tbody>\n",
       "</table>\n",
       "<p>5 rows × 38 columns</p>\n",
       "</div>"
      ],
      "text/plain": [
       "  street_number                   route locality-political  \\\n",
       "0          3130  Grizzly Peak Boulevard           Berkeley   \n",
       "1          2005             Tunnel Road            Oakland   \n",
       "2          6886             Chabot Road            Oakland   \n",
       "3          6365           Florio Street            Oakland   \n",
       "4          6365           Florio Street            Oakland   \n",
       "\n",
       "  administrative_area_level_2-political administrative_area_level_1-political  \\\n",
       "0                        Alameda County                            California   \n",
       "1                        Alameda County                            California   \n",
       "2                        Alameda County                            California   \n",
       "3                        Alameda County                            California   \n",
       "4                        Alameda County                            California   \n",
       "\n",
       "  country-political  postal_code  \\\n",
       "0     United States      94705.0   \n",
       "1     United States      94611.0   \n",
       "2     United States      94618.0   \n",
       "3     United States      94618.0   \n",
       "4     United States      94618.0   \n",
       "\n",
       "                                           address  longitude  latitude  ...  \\\n",
       "0  3130 Grizzly Peak Blvd, Berkeley, CA 94705, USA    -122.23     37.88  ...   \n",
       "1           2005 Tunnel Rd, Oakland, CA 94611, USA    -122.22     37.86  ...   \n",
       "2           6886 Chabot Rd, Oakland, CA 94618, USA    -122.24     37.85  ...   \n",
       "3           6365 Florio St, Oakland, CA 94618, USA    -122.25     37.85  ...   \n",
       "4           6365 Florio St, Oakland, CA 94618, USA    -122.25     37.85  ...   \n",
       "\n",
       "  campground-establishment-lodging-park-point_of_interest-rv_park-tourist_attraction  \\\n",
       "0                                                NaN                                   \n",
       "1                                                NaN                                   \n",
       "2                                                NaN                                   \n",
       "3                                                NaN                                   \n",
       "4                                                NaN                                   \n",
       "\n",
       "   cemetery-establishment-park-point_of_interest housing_median_age  \\\n",
       "0                                            NaN               41.0   \n",
       "1                                            NaN               21.0   \n",
       "2                                            NaN               52.0   \n",
       "3                                            NaN               52.0   \n",
       "4                                            NaN               52.0   \n",
       "\n",
       "  total_rooms total_bedrooms population households median_income  \\\n",
       "0       880.0          129.0      322.0      126.0        8.3252   \n",
       "1      7099.0         1106.0     2401.0     1138.0        8.3014   \n",
       "2      1467.0          190.0      496.0      177.0        7.2574   \n",
       "3      1274.0          235.0      558.0      219.0        5.6431   \n",
       "4      1627.0          280.0      565.0      259.0        3.8462   \n",
       "\n",
       "  median_house_value ocean_proximity  \n",
       "0           452600.0        NEAR BAY  \n",
       "1           358500.0        NEAR BAY  \n",
       "2           352100.0        NEAR BAY  \n",
       "3           341300.0        NEAR BAY  \n",
       "4           342200.0        NEAR BAY  \n",
       "\n",
       "[5 rows x 38 columns]"
      ]
     },
     "execution_count": 14,
     "metadata": {},
     "output_type": "execute_result"
    }
   ],
   "source": [
    "df.head()"
   ]
  },
  {
   "cell_type": "code",
   "execution_count": 15,
   "id": "00f9ca7d-6feb-4417-99a7-cbc619e3671f",
   "metadata": {
    "tags": []
   },
   "outputs": [
    {
     "name": "stdout",
     "output_type": "stream",
     "text": [
      "<class 'pandas.core.frame.DataFrame'>\n",
      "RangeIndex: 20640 entries, 0 to 20639\n",
      "Data columns (total 38 columns):\n",
      " #   Column                                                                              Non-Null Count  Dtype  \n",
      "---  ------                                                                              --------------  -----  \n",
      " 0   street_number                                                                       19008 non-null  object \n",
      " 1   route                                                                               20091 non-null  object \n",
      " 2   locality-political                                                                  20452 non-null  object \n",
      " 3   administrative_area_level_2-political                                               20589 non-null  object \n",
      " 4   administrative_area_level_1-political                                               20637 non-null  object \n",
      " 5   country-political                                                                   20640 non-null  object \n",
      " 6   postal_code                                                                         20454 non-null  float64\n",
      " 7   address                                                                             20640 non-null  object \n",
      " 8   longitude                                                                           20640 non-null  float64\n",
      " 9   latitude                                                                            20640 non-null  float64\n",
      " 10  neighborhood-political                                                              9000 non-null   object \n",
      " 11  postal_code_suffix                                                                  14095 non-null  float64\n",
      " 12  establishment-point_of_interest-transit_station                                     255 non-null    object \n",
      " 13  establishment-park-point_of_interest                                                46 non-null     object \n",
      " 14  premise                                                                             36 non-null     object \n",
      " 15  establishment-point_of_interest-subway_station-transit_station                      3 non-null      object \n",
      " 16  airport-establishment-finance-moving_company-point_of_interest-storage              1 non-null      object \n",
      " 17  subpremise                                                                          25 non-null     object \n",
      " 18  bus_station-establishment-point_of_interest-transit_station                         22 non-null     object \n",
      " 19  establishment-park-point_of_interest-tourist_attraction                             34 non-null     object \n",
      " 20  establishment-natural_feature                                                       11 non-null     object \n",
      " 21  airport-establishment-point_of_interest                                             8 non-null      object \n",
      " 22  political-sublocality-sublocality_level_1                                           33 non-null     object \n",
      " 23  administrative_area_level_3-political                                               1 non-null      object \n",
      " 24  post_box                                                                            6 non-null      object \n",
      " 25  establishment-light_rail_station-point_of_interest-transit_station                  13 non-null     object \n",
      " 26  establishment-point_of_interest                                                     1 non-null      object \n",
      " 27  aquarium-establishment-park-point_of_interest-tourist_attraction-zoo                1 non-null      object \n",
      " 28  campground-establishment-lodging-park-point_of_interest-rv_park-tourist_attraction  1 non-null      object \n",
      " 29  cemetery-establishment-park-point_of_interest                                       1 non-null      object \n",
      " 30  housing_median_age                                                                  20640 non-null  float64\n",
      " 31  total_rooms                                                                         20640 non-null  float64\n",
      " 32  total_bedrooms                                                                      20433 non-null  float64\n",
      " 33  population                                                                          20640 non-null  float64\n",
      " 34  households                                                                          20640 non-null  float64\n",
      " 35  median_income                                                                       20640 non-null  float64\n",
      " 36  median_house_value                                                                  20640 non-null  float64\n",
      " 37  ocean_proximity                                                                     20640 non-null  object \n",
      "dtypes: float64(11), object(27)\n",
      "memory usage: 6.0+ MB\n"
     ]
    }
   ],
   "source": [
    "# Priority Key\n",
    "df.info()"
   ]
  },
  {
   "cell_type": "code",
   "execution_count": 16,
   "id": "3e06d934-4d37-43a3-a290-475c21eefc64",
   "metadata": {},
   "outputs": [],
   "source": [
    "# Grabbing the features for our group\n",
    "feature_cols = ['neighborhood-political',\n",
    "                'ocean_proximity',\n",
    "                'median_house_value',\n",
    "                'housing_median_age',\n",
    "                'households',\n",
    "                'total_bedrooms',\n",
    "                'locality-political']\n",
    "\n",
    "# Creating new df based on the destired features\n",
    "feature_df = df[feature_cols]\n",
    "\n",
    "# Dropping an null values based on the primary key\n",
    "feature_df = feature_df.dropna(subset='neighborhood-political')\n",
    "\n",
    "# Renaming some of the columss for simplicity sake\n",
    "feature_df = feature_df.rename(columns={'neighborhood-political':'nbh_pol',\n",
    "                                        'locality-political': 'loc_pol',\n",
    "                                        'ocean_proximity':'ocn_prox',\n",
    "                                        'median_house_value': 'med_hse_val',\n",
    "                                        'housing_median_age': 'hse_med_age',\n",
    "                                        'households': 'tot_house',\n",
    "                                        'total_bedrooms': 'tot_bed'}\n",
    "                              )\n",
    "                "
   ]
  },
  {
   "cell_type": "code",
   "execution_count": 17,
   "id": "810be653-651a-4bbc-9564-d027c131c863",
   "metadata": {
    "tags": []
   },
   "outputs": [
    {
     "name": "stdout",
     "output_type": "stream",
     "text": [
      "<class 'pandas.core.frame.DataFrame'>\n",
      "Index: 9000 entries, 1 to 20636\n",
      "Data columns (total 7 columns):\n",
      " #   Column       Non-Null Count  Dtype  \n",
      "---  ------       --------------  -----  \n",
      " 0   nbh_pol      9000 non-null   object \n",
      " 1   ocn_prox     9000 non-null   object \n",
      " 2   med_hse_val  9000 non-null   float64\n",
      " 3   hse_med_age  9000 non-null   float64\n",
      " 4   tot_house    9000 non-null   float64\n",
      " 5   tot_bed      8911 non-null   float64\n",
      " 6   loc_pol      8955 non-null   object \n",
      "dtypes: float64(4), object(3)\n",
      "memory usage: 562.5+ KB\n"
     ]
    }
   ],
   "source": [
    "feature_df.info()"
   ]
  },
  {
   "cell_type": "code",
   "execution_count": 18,
   "id": "cb4e9f63-2202-4e5d-a61a-457786e8bc92",
   "metadata": {
    "tags": []
   },
   "outputs": [],
   "source": [
    "# Households becase on locality\n",
    "house_df = feature_df[['loc_pol', \n",
    "                      'tot_house', \n",
    "                      'tot_bed']]\n",
    "\n",
    "# Finding average for locality Code\n",
    "house_df = house_df.groupby('loc_pol').mean()\n",
    "\n",
    "# Renaming total to averages for average colculation\n",
    "house_df = house_df.rename(columns={'tot_bed': 'avg_bed',\n",
    "                                    'tot_house': 'avg_house'}\n",
    "                          )\n",
    "\n",
    "# Finding average bedrooms per household\n",
    "house_df['avg_bed_per_house'] = house_df['avg_bed'].div(house_df['avg_house'], axis=0).round()\n",
    "\n",
    "# Merge the new df back into the feature_df\n",
    "feature_df = pd.merge(feature_df, house_df, left_on=['loc_pol'], right_on=['loc_pol'], how='left')"
   ]
  },
  {
   "cell_type": "code",
   "execution_count": 19,
   "id": "211b76ad-1282-44b2-8422-f00f687576ef",
   "metadata": {
    "tags": []
   },
   "outputs": [
    {
     "name": "stdout",
     "output_type": "stream",
     "text": [
      "<class 'pandas.core.frame.DataFrame'>\n",
      "RangeIndex: 9000 entries, 0 to 8999\n",
      "Data columns (total 10 columns):\n",
      " #   Column             Non-Null Count  Dtype  \n",
      "---  ------             --------------  -----  \n",
      " 0   nbh_pol            9000 non-null   object \n",
      " 1   ocn_prox           9000 non-null   object \n",
      " 2   med_hse_val        9000 non-null   float64\n",
      " 3   hse_med_age        9000 non-null   float64\n",
      " 4   tot_house          9000 non-null   float64\n",
      " 5   tot_bed            8911 non-null   float64\n",
      " 6   loc_pol            8955 non-null   object \n",
      " 7   avg_house          8955 non-null   float64\n",
      " 8   avg_bed            8954 non-null   float64\n",
      " 9   avg_bed_per_house  8954 non-null   float64\n",
      "dtypes: float64(7), object(3)\n",
      "memory usage: 703.2+ KB\n"
     ]
    }
   ],
   "source": [
    "feature_df.info()"
   ]
  },
  {
   "cell_type": "code",
   "execution_count": 20,
   "id": "8469335c-f714-432d-bb19-5358e3fef1a9",
   "metadata": {
    "tags": []
   },
   "outputs": [],
   "source": [
    "# Encoding datatypes from objects to floats\n",
    "\n",
    "# One hot encode ocn_prox\n",
    "encode_ocn_prox = pd.get_dummies(feature_df['ocn_prox'], dtype='float64')\n",
    "\n",
    "# Encode Locality\n",
    "encode_loc_pol, dict_pairs = encode_col(feature_df,'loc_pol')\n",
    "\n",
    "# Combine the two encoded columns together\n",
    "combined_cols = pd.concat([encode_loc_pol,encode_ocn_prox, ], axis=1)"
   ]
  },
  {
   "cell_type": "code",
   "execution_count": 21,
   "id": "e042dcb5-a0fc-40ee-9dd7-3e0483cd045c",
   "metadata": {
    "tags": []
   },
   "outputs": [
    {
     "name": "stdout",
     "output_type": "stream",
     "text": [
      "<class 'pandas.core.frame.DataFrame'>\n",
      "RangeIndex: 9000 entries, 0 to 8999\n",
      "Data columns (total 14 columns):\n",
      " #   Column             Non-Null Count  Dtype  \n",
      "---  ------             --------------  -----  \n",
      " 0   nbh_pol            9000 non-null   object \n",
      " 1   ocn_prox           9000 non-null   object \n",
      " 2   med_hse_val        9000 non-null   float64\n",
      " 3   hse_med_age        9000 non-null   float64\n",
      " 4   tot_house          9000 non-null   float64\n",
      " 5   tot_bed            8911 non-null   float64\n",
      " 6   loc_pol            9000 non-null   float64\n",
      " 7   avg_house          8955 non-null   float64\n",
      " 8   avg_bed            8954 non-null   float64\n",
      " 9   avg_bed_per_house  8954 non-null   float64\n",
      " 10  <1H OCEAN          9000 non-null   float64\n",
      " 11  INLAND             9000 non-null   float64\n",
      " 12  NEAR BAY           9000 non-null   float64\n",
      " 13  NEAR OCEAN         9000 non-null   float64\n",
      "dtypes: float64(12), object(2)\n",
      "memory usage: 984.5+ KB\n"
     ]
    }
   ],
   "source": [
    "combined_cols.info()"
   ]
  },
  {
   "cell_type": "code",
   "execution_count": 22,
   "id": "5a214840-f484-4067-bf53-1c43a185cc57",
   "metadata": {
    "tags": []
   },
   "outputs": [],
   "source": [
    "# Now that we got what we need form ocn_prox, we can drop that column\n",
    "combined_cols = combined_cols.drop(columns=['ocn_prox'])"
   ]
  },
  {
   "cell_type": "code",
   "execution_count": 23,
   "id": "095b9919-70a4-4d42-8e49-ee821ab2250a",
   "metadata": {
    "tags": []
   },
   "outputs": [
    {
     "name": "stdout",
     "output_type": "stream",
     "text": [
      "<class 'pandas.core.frame.DataFrame'>\n",
      "RangeIndex: 9000 entries, 0 to 8999\n",
      "Data columns (total 13 columns):\n",
      " #   Column             Non-Null Count  Dtype  \n",
      "---  ------             --------------  -----  \n",
      " 0   nbh_pol            9000 non-null   object \n",
      " 1   med_hse_val        9000 non-null   float64\n",
      " 2   hse_med_age        9000 non-null   float64\n",
      " 3   tot_house          9000 non-null   float64\n",
      " 4   tot_bed            8911 non-null   float64\n",
      " 5   loc_pol            9000 non-null   float64\n",
      " 6   avg_house          8955 non-null   float64\n",
      " 7   avg_bed            8954 non-null   float64\n",
      " 8   avg_bed_per_house  8954 non-null   float64\n",
      " 9   <1H OCEAN          9000 non-null   float64\n",
      " 10  INLAND             9000 non-null   float64\n",
      " 11  NEAR BAY           9000 non-null   float64\n",
      " 12  NEAR OCEAN         9000 non-null   float64\n",
      "dtypes: float64(12), object(1)\n",
      "memory usage: 914.2+ KB\n"
     ]
    }
   ],
   "source": [
    "combined_cols.info()"
   ]
  },
  {
   "cell_type": "code",
   "execution_count": 24,
   "id": "670edaee-3330-4251-879b-09b0ebb67a74",
   "metadata": {
    "tags": []
   },
   "outputs": [],
   "source": [
    "# Rename and Group the neighboorhoods and create an index out of them\n",
    "new_df = combined_cols.groupby('nbh_pol').mean()"
   ]
  },
  {
   "cell_type": "code",
   "execution_count": 25,
   "id": "863bf608-8705-4e32-8829-bc39c07006f8",
   "metadata": {
    "tags": []
   },
   "outputs": [
    {
     "data": {
      "text/html": [
       "<div>\n",
       "<style scoped>\n",
       "    .dataframe tbody tr th:only-of-type {\n",
       "        vertical-align: middle;\n",
       "    }\n",
       "\n",
       "    .dataframe tbody tr th {\n",
       "        vertical-align: top;\n",
       "    }\n",
       "\n",
       "    .dataframe thead th {\n",
       "        text-align: right;\n",
       "    }\n",
       "</style>\n",
       "<table border=\"1\" class=\"dataframe\">\n",
       "  <thead>\n",
       "    <tr style=\"text-align: right;\">\n",
       "      <th></th>\n",
       "      <th>med_hse_val</th>\n",
       "      <th>hse_med_age</th>\n",
       "      <th>tot_house</th>\n",
       "      <th>tot_bed</th>\n",
       "      <th>loc_pol</th>\n",
       "      <th>avg_house</th>\n",
       "      <th>avg_bed</th>\n",
       "      <th>avg_bed_per_house</th>\n",
       "      <th>&lt;1H OCEAN</th>\n",
       "      <th>INLAND</th>\n",
       "      <th>NEAR BAY</th>\n",
       "      <th>NEAR OCEAN</th>\n",
       "    </tr>\n",
       "    <tr>\n",
       "      <th>nbh_pol</th>\n",
       "      <th></th>\n",
       "      <th></th>\n",
       "      <th></th>\n",
       "      <th></th>\n",
       "      <th></th>\n",
       "      <th></th>\n",
       "      <th></th>\n",
       "      <th></th>\n",
       "      <th></th>\n",
       "      <th></th>\n",
       "      <th></th>\n",
       "      <th></th>\n",
       "    </tr>\n",
       "  </thead>\n",
       "  <tbody>\n",
       "    <tr>\n",
       "      <th>28 Palms</th>\n",
       "      <td>222200.000000</td>\n",
       "      <td>25.0</td>\n",
       "      <td>923.000000</td>\n",
       "      <td>939.000000</td>\n",
       "      <td>5.0</td>\n",
       "      <td>863.238806</td>\n",
       "      <td>894.686567</td>\n",
       "      <td>1.0</td>\n",
       "      <td>1.0</td>\n",
       "      <td>0.0</td>\n",
       "      <td>0.0</td>\n",
       "      <td>0.0</td>\n",
       "    </tr>\n",
       "    <tr>\n",
       "      <th>Acorn Industrial</th>\n",
       "      <td>81300.000000</td>\n",
       "      <td>52.0</td>\n",
       "      <td>147.000000</td>\n",
       "      <td>244.000000</td>\n",
       "      <td>0.0</td>\n",
       "      <td>370.966197</td>\n",
       "      <td>397.541076</td>\n",
       "      <td>1.0</td>\n",
       "      <td>0.0</td>\n",
       "      <td>0.0</td>\n",
       "      <td>1.0</td>\n",
       "      <td>0.0</td>\n",
       "    </tr>\n",
       "    <tr>\n",
       "      <th>Adams Hill</th>\n",
       "      <td>250733.333333</td>\n",
       "      <td>39.5</td>\n",
       "      <td>493.666667</td>\n",
       "      <td>520.166667</td>\n",
       "      <td>36.0</td>\n",
       "      <td>579.542056</td>\n",
       "      <td>614.600000</td>\n",
       "      <td>1.0</td>\n",
       "      <td>1.0</td>\n",
       "      <td>0.0</td>\n",
       "      <td>0.0</td>\n",
       "      <td>0.0</td>\n",
       "    </tr>\n",
       "    <tr>\n",
       "      <th>Agua Mansa Industrial Corridor</th>\n",
       "      <td>112300.000000</td>\n",
       "      <td>17.0</td>\n",
       "      <td>516.000000</td>\n",
       "      <td>569.000000</td>\n",
       "      <td>138.0</td>\n",
       "      <td>516.000000</td>\n",
       "      <td>569.000000</td>\n",
       "      <td>1.0</td>\n",
       "      <td>0.0</td>\n",
       "      <td>1.0</td>\n",
       "      <td>0.0</td>\n",
       "      <td>0.0</td>\n",
       "    </tr>\n",
       "    <tr>\n",
       "      <th>Al Tahoe</th>\n",
       "      <td>109180.000000</td>\n",
       "      <td>23.8</td>\n",
       "      <td>248.800000</td>\n",
       "      <td>399.800000</td>\n",
       "      <td>20.0</td>\n",
       "      <td>248.800000</td>\n",
       "      <td>399.800000</td>\n",
       "      <td>2.0</td>\n",
       "      <td>0.0</td>\n",
       "      <td>1.0</td>\n",
       "      <td>0.0</td>\n",
       "      <td>0.0</td>\n",
       "    </tr>\n",
       "  </tbody>\n",
       "</table>\n",
       "</div>"
      ],
      "text/plain": [
       "                                  med_hse_val  hse_med_age   tot_house  \\\n",
       "nbh_pol                                                                  \n",
       "28 Palms                        222200.000000         25.0  923.000000   \n",
       "Acorn Industrial                 81300.000000         52.0  147.000000   \n",
       "Adams Hill                      250733.333333         39.5  493.666667   \n",
       "Agua Mansa Industrial Corridor  112300.000000         17.0  516.000000   \n",
       "Al Tahoe                        109180.000000         23.8  248.800000   \n",
       "\n",
       "                                   tot_bed  loc_pol   avg_house     avg_bed  \\\n",
       "nbh_pol                                                                       \n",
       "28 Palms                        939.000000      5.0  863.238806  894.686567   \n",
       "Acorn Industrial                244.000000      0.0  370.966197  397.541076   \n",
       "Adams Hill                      520.166667     36.0  579.542056  614.600000   \n",
       "Agua Mansa Industrial Corridor  569.000000    138.0  516.000000  569.000000   \n",
       "Al Tahoe                        399.800000     20.0  248.800000  399.800000   \n",
       "\n",
       "                                avg_bed_per_house  <1H OCEAN  INLAND  \\\n",
       "nbh_pol                                                                \n",
       "28 Palms                                      1.0        1.0     0.0   \n",
       "Acorn Industrial                              1.0        0.0     0.0   \n",
       "Adams Hill                                    1.0        1.0     0.0   \n",
       "Agua Mansa Industrial Corridor                1.0        0.0     1.0   \n",
       "Al Tahoe                                      2.0        0.0     1.0   \n",
       "\n",
       "                                NEAR BAY  NEAR OCEAN  \n",
       "nbh_pol                                               \n",
       "28 Palms                             0.0         0.0  \n",
       "Acorn Industrial                     1.0         0.0  \n",
       "Adams Hill                           0.0         0.0  \n",
       "Agua Mansa Industrial Corridor       0.0         0.0  \n",
       "Al Tahoe                             0.0         0.0  "
      ]
     },
     "execution_count": 25,
     "metadata": {},
     "output_type": "execute_result"
    }
   ],
   "source": [
    "new_df.head()"
   ]
  },
  {
   "cell_type": "code",
   "execution_count": 26,
   "id": "b09a8da9-2b8c-4bfd-8cb3-9386358c69e7",
   "metadata": {
    "tags": []
   },
   "outputs": [],
   "source": [
    "# Rename\n",
    "new_df = new_df.reset_index().rename(columns={'index': 'nbh_pol',\n",
    "                                              '<1H OCEAN': 'ls_1_ocn',\n",
    "                                              'INLAND': 'inland',\n",
    "                                              'NEAR BAY': 'nr_bay',\n",
    "                                              'NEAR OCEAN': 'nr_ocn'}\n",
    "                                    )"
   ]
  },
  {
   "cell_type": "code",
   "execution_count": 27,
   "id": "085ab6e8-c55f-4448-bcf6-d292c907407a",
   "metadata": {
    "tags": []
   },
   "outputs": [
    {
     "data": {
      "text/html": [
       "<div>\n",
       "<style scoped>\n",
       "    .dataframe tbody tr th:only-of-type {\n",
       "        vertical-align: middle;\n",
       "    }\n",
       "\n",
       "    .dataframe tbody tr th {\n",
       "        vertical-align: top;\n",
       "    }\n",
       "\n",
       "    .dataframe thead th {\n",
       "        text-align: right;\n",
       "    }\n",
       "</style>\n",
       "<table border=\"1\" class=\"dataframe\">\n",
       "  <thead>\n",
       "    <tr style=\"text-align: right;\">\n",
       "      <th></th>\n",
       "      <th>nbh_pol</th>\n",
       "      <th>med_hse_val</th>\n",
       "      <th>hse_med_age</th>\n",
       "      <th>tot_house</th>\n",
       "      <th>tot_bed</th>\n",
       "      <th>loc_pol</th>\n",
       "      <th>avg_house</th>\n",
       "      <th>avg_bed</th>\n",
       "      <th>avg_bed_per_house</th>\n",
       "      <th>ls_1_ocn</th>\n",
       "      <th>inland</th>\n",
       "      <th>nr_bay</th>\n",
       "      <th>nr_ocn</th>\n",
       "    </tr>\n",
       "  </thead>\n",
       "  <tbody>\n",
       "    <tr>\n",
       "      <th>0</th>\n",
       "      <td>28 Palms</td>\n",
       "      <td>222200.000000</td>\n",
       "      <td>25.0</td>\n",
       "      <td>923.000000</td>\n",
       "      <td>939.000000</td>\n",
       "      <td>5.0</td>\n",
       "      <td>863.238806</td>\n",
       "      <td>894.686567</td>\n",
       "      <td>1.0</td>\n",
       "      <td>1.0</td>\n",
       "      <td>0.0</td>\n",
       "      <td>0.0</td>\n",
       "      <td>0.0</td>\n",
       "    </tr>\n",
       "    <tr>\n",
       "      <th>1</th>\n",
       "      <td>Acorn Industrial</td>\n",
       "      <td>81300.000000</td>\n",
       "      <td>52.0</td>\n",
       "      <td>147.000000</td>\n",
       "      <td>244.000000</td>\n",
       "      <td>0.0</td>\n",
       "      <td>370.966197</td>\n",
       "      <td>397.541076</td>\n",
       "      <td>1.0</td>\n",
       "      <td>0.0</td>\n",
       "      <td>0.0</td>\n",
       "      <td>1.0</td>\n",
       "      <td>0.0</td>\n",
       "    </tr>\n",
       "    <tr>\n",
       "      <th>2</th>\n",
       "      <td>Adams Hill</td>\n",
       "      <td>250733.333333</td>\n",
       "      <td>39.5</td>\n",
       "      <td>493.666667</td>\n",
       "      <td>520.166667</td>\n",
       "      <td>36.0</td>\n",
       "      <td>579.542056</td>\n",
       "      <td>614.600000</td>\n",
       "      <td>1.0</td>\n",
       "      <td>1.0</td>\n",
       "      <td>0.0</td>\n",
       "      <td>0.0</td>\n",
       "      <td>0.0</td>\n",
       "    </tr>\n",
       "    <tr>\n",
       "      <th>3</th>\n",
       "      <td>Agua Mansa Industrial Corridor</td>\n",
       "      <td>112300.000000</td>\n",
       "      <td>17.0</td>\n",
       "      <td>516.000000</td>\n",
       "      <td>569.000000</td>\n",
       "      <td>138.0</td>\n",
       "      <td>516.000000</td>\n",
       "      <td>569.000000</td>\n",
       "      <td>1.0</td>\n",
       "      <td>0.0</td>\n",
       "      <td>1.0</td>\n",
       "      <td>0.0</td>\n",
       "      <td>0.0</td>\n",
       "    </tr>\n",
       "    <tr>\n",
       "      <th>4</th>\n",
       "      <td>Al Tahoe</td>\n",
       "      <td>109180.000000</td>\n",
       "      <td>23.8</td>\n",
       "      <td>248.800000</td>\n",
       "      <td>399.800000</td>\n",
       "      <td>20.0</td>\n",
       "      <td>248.800000</td>\n",
       "      <td>399.800000</td>\n",
       "      <td>2.0</td>\n",
       "      <td>0.0</td>\n",
       "      <td>1.0</td>\n",
       "      <td>0.0</td>\n",
       "      <td>0.0</td>\n",
       "    </tr>\n",
       "  </tbody>\n",
       "</table>\n",
       "</div>"
      ],
      "text/plain": [
       "                          nbh_pol    med_hse_val  hse_med_age   tot_house  \\\n",
       "0                        28 Palms  222200.000000         25.0  923.000000   \n",
       "1                Acorn Industrial   81300.000000         52.0  147.000000   \n",
       "2                      Adams Hill  250733.333333         39.5  493.666667   \n",
       "3  Agua Mansa Industrial Corridor  112300.000000         17.0  516.000000   \n",
       "4                        Al Tahoe  109180.000000         23.8  248.800000   \n",
       "\n",
       "      tot_bed  loc_pol   avg_house     avg_bed  avg_bed_per_house  ls_1_ocn  \\\n",
       "0  939.000000      5.0  863.238806  894.686567                1.0       1.0   \n",
       "1  244.000000      0.0  370.966197  397.541076                1.0       0.0   \n",
       "2  520.166667     36.0  579.542056  614.600000                1.0       1.0   \n",
       "3  569.000000    138.0  516.000000  569.000000                1.0       0.0   \n",
       "4  399.800000     20.0  248.800000  399.800000                2.0       0.0   \n",
       "\n",
       "   inland  nr_bay  nr_ocn  \n",
       "0     0.0     0.0     0.0  \n",
       "1     0.0     1.0     0.0  \n",
       "2     0.0     0.0     0.0  \n",
       "3     1.0     0.0     0.0  \n",
       "4     1.0     0.0     0.0  "
      ]
     },
     "execution_count": 27,
     "metadata": {},
     "output_type": "execute_result"
    }
   ],
   "source": [
    "new_df.head()"
   ]
  },
  {
   "cell_type": "code",
   "execution_count": 28,
   "id": "cb2a2e91-0593-4a10-9571-a5e7885e938d",
   "metadata": {
    "tags": []
   },
   "outputs": [
    {
     "name": "stdout",
     "output_type": "stream",
     "text": [
      "<class 'pandas.core.frame.DataFrame'>\n",
      "RangeIndex: 1306 entries, 0 to 1305\n",
      "Data columns (total 13 columns):\n",
      " #   Column             Non-Null Count  Dtype  \n",
      "---  ------             --------------  -----  \n",
      " 0   nbh_pol            1306 non-null   object \n",
      " 1   med_hse_val        1306 non-null   float64\n",
      " 2   hse_med_age        1306 non-null   float64\n",
      " 3   tot_house          1306 non-null   float64\n",
      " 4   tot_bed            1300 non-null   float64\n",
      " 5   loc_pol            1306 non-null   float64\n",
      " 6   avg_house          1293 non-null   float64\n",
      " 7   avg_bed            1292 non-null   float64\n",
      " 8   avg_bed_per_house  1292 non-null   float64\n",
      " 9   ls_1_ocn           1306 non-null   float64\n",
      " 10  inland             1306 non-null   float64\n",
      " 11  nr_bay             1306 non-null   float64\n",
      " 12  nr_ocn             1306 non-null   float64\n",
      "dtypes: float64(12), object(1)\n",
      "memory usage: 132.8+ KB\n"
     ]
    }
   ],
   "source": [
    "new_df.info()"
   ]
  },
  {
   "cell_type": "code",
   "execution_count": 29,
   "id": "1f3ec78f-cf95-4bb6-a013-ba68858841a7",
   "metadata": {},
   "outputs": [],
   "source": [
    "# Encode the nbh_pol\n",
    "# Creating a dataframe\n",
    "encode_df = pd.DataFrame.from_dict(dict_pairs, orient='index')\n",
    "\n",
    "# Reset the index and name the column\n",
    "encode_df = encode_df.reset_index().rename(columns={'index': 'nbh_pol_new',\n",
    "                                                    0: 'nbh_pol_encode'}\n",
    "                                          )\n",
    "# encode_df.info()\n",
    "\n",
    "# Ensure DF for the encoded values are the same                                 \n",
    "encode_df['nbh_pol_encode'] = encode_df['nbh_pol_encode'].astype('float64')"
   ]
  },
  {
   "cell_type": "code",
   "execution_count": 30,
   "id": "a0787884-bb6f-4bdd-af2d-f6ec041a2c14",
   "metadata": {
    "tags": []
   },
   "outputs": [
    {
     "data": {
      "text/html": [
       "<div>\n",
       "<style scoped>\n",
       "    .dataframe tbody tr th:only-of-type {\n",
       "        vertical-align: middle;\n",
       "    }\n",
       "\n",
       "    .dataframe tbody tr th {\n",
       "        vertical-align: top;\n",
       "    }\n",
       "\n",
       "    .dataframe thead th {\n",
       "        text-align: right;\n",
       "    }\n",
       "</style>\n",
       "<table border=\"1\" class=\"dataframe\">\n",
       "  <thead>\n",
       "    <tr style=\"text-align: right;\">\n",
       "      <th></th>\n",
       "      <th>nbh_pol_new</th>\n",
       "      <th>nbh_pol_encode</th>\n",
       "    </tr>\n",
       "  </thead>\n",
       "  <tbody>\n",
       "    <tr>\n",
       "      <th>0</th>\n",
       "      <td>Oakland</td>\n",
       "      <td>0.0</td>\n",
       "    </tr>\n",
       "    <tr>\n",
       "      <th>1</th>\n",
       "      <td>Berkeley</td>\n",
       "      <td>1.0</td>\n",
       "    </tr>\n",
       "    <tr>\n",
       "      <th>2</th>\n",
       "      <td>San Leandro</td>\n",
       "      <td>2.0</td>\n",
       "    </tr>\n",
       "    <tr>\n",
       "      <th>3</th>\n",
       "      <td>Alameda</td>\n",
       "      <td>3.0</td>\n",
       "    </tr>\n",
       "    <tr>\n",
       "      <th>4</th>\n",
       "      <td>Hayward</td>\n",
       "      <td>4.0</td>\n",
       "    </tr>\n",
       "    <tr>\n",
       "      <th>...</th>\n",
       "      <td>...</td>\n",
       "      <td>...</td>\n",
       "    </tr>\n",
       "    <tr>\n",
       "      <th>200</th>\n",
       "      <td>Porterville</td>\n",
       "      <td>200.0</td>\n",
       "    </tr>\n",
       "    <tr>\n",
       "      <th>201</th>\n",
       "      <td>Ventura</td>\n",
       "      <td>201.0</td>\n",
       "    </tr>\n",
       "    <tr>\n",
       "      <th>202</th>\n",
       "      <td>Oxnard</td>\n",
       "      <td>202.0</td>\n",
       "    </tr>\n",
       "    <tr>\n",
       "      <th>203</th>\n",
       "      <td>Thousand Oaks</td>\n",
       "      <td>203.0</td>\n",
       "    </tr>\n",
       "    <tr>\n",
       "      <th>204</th>\n",
       "      <td>Davis</td>\n",
       "      <td>204.0</td>\n",
       "    </tr>\n",
       "  </tbody>\n",
       "</table>\n",
       "<p>205 rows × 2 columns</p>\n",
       "</div>"
      ],
      "text/plain": [
       "       nbh_pol_new  nbh_pol_encode\n",
       "0          Oakland             0.0\n",
       "1         Berkeley             1.0\n",
       "2      San Leandro             2.0\n",
       "3          Alameda             3.0\n",
       "4          Hayward             4.0\n",
       "..             ...             ...\n",
       "200    Porterville           200.0\n",
       "201        Ventura           201.0\n",
       "202         Oxnard           202.0\n",
       "203  Thousand Oaks           203.0\n",
       "204          Davis           204.0\n",
       "\n",
       "[205 rows x 2 columns]"
      ]
     },
     "execution_count": 30,
     "metadata": {},
     "output_type": "execute_result"
    }
   ],
   "source": [
    "encode_df"
   ]
  },
  {
   "cell_type": "code",
   "execution_count": 31,
   "id": "7f666ca2-102b-48a5-a102-068542c28ad4",
   "metadata": {
    "tags": []
   },
   "outputs": [
    {
     "name": "stdout",
     "output_type": "stream",
     "text": [
      "<class 'pandas.core.frame.DataFrame'>\n",
      "RangeIndex: 1306 entries, 0 to 1305\n",
      "Data columns (total 13 columns):\n",
      " #   Column             Non-Null Count  Dtype  \n",
      "---  ------             --------------  -----  \n",
      " 0   nbh_pol            1306 non-null   object \n",
      " 1   med_hse_val        1306 non-null   float64\n",
      " 2   hse_med_age        1306 non-null   float64\n",
      " 3   tot_house          1306 non-null   float64\n",
      " 4   tot_bed            1300 non-null   float64\n",
      " 5   loc_pol            1306 non-null   float64\n",
      " 6   avg_house          1293 non-null   float64\n",
      " 7   avg_bed            1292 non-null   float64\n",
      " 8   avg_bed_per_house  1292 non-null   float64\n",
      " 9   ls_1_ocn           1306 non-null   float64\n",
      " 10  inland             1306 non-null   float64\n",
      " 11  nr_bay             1306 non-null   float64\n",
      " 12  nr_ocn             1306 non-null   float64\n",
      "dtypes: float64(12), object(1)\n",
      "memory usage: 132.8+ KB\n"
     ]
    }
   ],
   "source": [
    "new_df.info()"
   ]
  },
  {
   "cell_type": "code",
   "execution_count": 32,
   "id": "ddf43372-d780-4c08-a38b-6005d2107736",
   "metadata": {
    "tags": []
   },
   "outputs": [],
   "source": [
    "# Calculating the bedrooms per houseold\n",
    "new_df['bed_per_hse'] = new_df['tot_bed'].div(new_df['tot_house'], axis=0)"
   ]
  },
  {
   "cell_type": "code",
   "execution_count": 33,
   "id": "69396ac5-8887-45a7-987b-5e712fbd8e51",
   "metadata": {
    "tags": []
   },
   "outputs": [
    {
     "data": {
      "text/plain": [
       "nbh_pol              1306\n",
       "med_hse_val          1306\n",
       "hse_med_age          1306\n",
       "tot_house            1306\n",
       "tot_bed              1306\n",
       "loc_pol              1306\n",
       "avg_house            1306\n",
       "avg_bed              1306\n",
       "avg_bed_per_house    1306\n",
       "ls_1_ocn             1306\n",
       "inland               1306\n",
       "nr_bay               1306\n",
       "nr_ocn               1306\n",
       "bed_per_hse          1306\n",
       "dtype: int64"
      ]
     },
     "execution_count": 33,
     "metadata": {},
     "output_type": "execute_result"
    }
   ],
   "source": [
    "new_df.isna().count()"
   ]
  },
  {
   "cell_type": "code",
   "execution_count": 34,
   "id": "036d9a1c-d309-4b7c-9532-40246b9de4e8",
   "metadata": {
    "tags": []
   },
   "outputs": [
    {
     "data": {
      "text/plain": [
       "(       nbh_pol  med_hse_val  hse_med_age  tot_house  tot_bed  loc_pol  \\\n",
       " 130  Brooktree     257400.0          9.0     1438.0      NaN    182.0   \n",
       " \n",
       "       avg_house     avg_bed  avg_bed_per_house  ls_1_ocn  inland  nr_bay  \\\n",
       " 130  532.506148  548.538144                1.0       1.0     0.0     0.0   \n",
       " \n",
       "      nr_ocn  bed_per_hse  \n",
       " 130     0.0          NaN  ,\n",
       "                nbh_pol  med_hse_val  hse_med_age  tot_house  tot_bed  loc_pol  \\\n",
       " 390  Fisherman's Wharf     500001.0         52.0      250.0    317.0    160.0   \n",
       " \n",
       "      avg_house     avg_bed  avg_bed_per_house  ls_1_ocn  inland  nr_bay  \\\n",
       " 390      501.0  535.384899                1.0       0.0     0.0     1.0   \n",
       " \n",
       "      nr_ocn  bed_per_hse  \n",
       " 390     0.0        1.268  ,\n",
       "       nbh_pol  med_hse_val  hse_med_age  tot_house  tot_bed  loc_pol  \\\n",
       " 604  Los Osos     221612.5       15.375     611.75    642.5    163.0   \n",
       " \n",
       "      avg_house  avg_bed  avg_bed_per_house  ls_1_ocn  inland  nr_bay  nr_ocn  \\\n",
       " 604     611.75    642.5                1.0       0.0     0.0     0.0     1.0   \n",
       " \n",
       "      bed_per_hse  \n",
       " 604     1.050266  )"
      ]
     },
     "execution_count": 34,
     "metadata": {},
     "output_type": "execute_result"
    }
   ],
   "source": [
    "# Checking out the cities to add\n",
    "new_df[new_df['nbh_pol']=='Brooktree'], new_df[new_df['nbh_pol']== \"Fisherman's Wharf\"], new_df[new_df['nbh_pol']=='Los Osos']"
   ]
  },
  {
   "cell_type": "markdown",
   "id": "dc0fb0d2-28e1-43ae-b2d0-4ad82a4e3146",
   "metadata": {},
   "source": [
    "### Ingest Data into Feature Store + Setup Feature Group"
   ]
  },
  {
   "cell_type": "code",
   "execution_count": 35,
   "id": "399bfc07-c783-4b6e-a4ab-1cfc6f98aee5",
   "metadata": {},
   "outputs": [],
   "source": [
    "# Creating the names and the time-stamp\n",
    "neighborhood_feature_group_name = \"neighborhood-feature-group-\" + strftime(\"%d-%H-%M-%S\", gmtime())\n",
    "encoded_feature_group_name = \"encoded-feature-group-\" + strftime(\"%d-%H-%M-%S\", gmtime())"
   ]
  },
  {
   "cell_type": "code",
   "execution_count": 36,
   "id": "4e7adceb-8ff7-40d6-808b-8ed455db170a",
   "metadata": {
    "tags": []
   },
   "outputs": [],
   "source": [
    "# Creating Feature Group\n",
    "neighborhood_feature_group = FeatureGroup(name=neighborhood_feature_group_name, sagemaker_session=feature_store_session)\n",
    "encoded_feature_group = FeatureGroup(name=encoded_feature_group_name, sagemaker_session=feature_store_session)"
   ]
  },
  {
   "cell_type": "code",
   "execution_count": 37,
   "id": "53451dd4-d200-425c-9b6e-ddbcbf0cff91",
   "metadata": {},
   "outputs": [],
   "source": [
    "# Make all objects intro string\n",
    "convert_to_strings(new_df)\n",
    "convert_to_strings(encode_df)"
   ]
  },
  {
   "cell_type": "markdown",
   "id": "0b9570d1-0f72-4a92-8e80-29a063e0a40e",
   "metadata": {},
   "source": [
    "### Setup Record Identifier and Event Time Features"
   ]
  },
  {
   "cell_type": "code",
   "execution_count": 38,
   "id": "57cdd5a3-2d0f-4702-9801-c62eba48d1e0",
   "metadata": {
    "tags": []
   },
   "outputs": [],
   "source": [
    "# Creating record identifier + time features\n",
    "primary_key_identifier = 'nbh_pol'\n",
    "secondary_key_identifier = 'nbh_pol_new' # pol_loc\n",
    "event_time_identifier = 'event_time'\n",
    "\n",
    "# Tack on the event time to the two df\n",
    "new_df[event_time_identifier] = pd.Series([time_now]*len(new_df), dtype='float64')\n",
    "encode_df[event_time_identifier] = pd.Series([time_now]*len(encode_df), dtype='float64')"
   ]
  },
  {
   "cell_type": "code",
   "execution_count": 39,
   "id": "d4705233-56cb-4b3b-82cc-371ca4d04509",
   "metadata": {
    "tags": []
   },
   "outputs": [
    {
     "name": "stdout",
     "output_type": "stream",
     "text": [
      "<class 'pandas.core.frame.DataFrame'>\n",
      "RangeIndex: 1306 entries, 0 to 1305\n",
      "Data columns (total 15 columns):\n",
      " #   Column             Non-Null Count  Dtype  \n",
      "---  ------             --------------  -----  \n",
      " 0   nbh_pol            1306 non-null   object \n",
      " 1   med_hse_val        1306 non-null   float64\n",
      " 2   hse_med_age        1306 non-null   float64\n",
      " 3   tot_house          1306 non-null   float64\n",
      " 4   tot_bed            1300 non-null   float64\n",
      " 5   loc_pol            1306 non-null   float64\n",
      " 6   avg_house          1293 non-null   float64\n",
      " 7   avg_bed            1292 non-null   float64\n",
      " 8   avg_bed_per_house  1292 non-null   float64\n",
      " 9   ls_1_ocn           1306 non-null   float64\n",
      " 10  inland             1306 non-null   float64\n",
      " 11  nr_bay             1306 non-null   float64\n",
      " 12  nr_ocn             1306 non-null   float64\n",
      " 13  bed_per_hse        1300 non-null   float64\n",
      " 14  event_time         1306 non-null   float64\n",
      "dtypes: float64(14), object(1)\n",
      "memory usage: 153.2+ KB\n"
     ]
    }
   ],
   "source": [
    "new_df.info()"
   ]
  },
  {
   "cell_type": "code",
   "execution_count": 40,
   "id": "773b6b1d-cc66-480e-8ab8-ece6ad9351c9",
   "metadata": {
    "tags": []
   },
   "outputs": [
    {
     "name": "stdout",
     "output_type": "stream",
     "text": [
      "<class 'pandas.core.frame.DataFrame'>\n",
      "RangeIndex: 205 entries, 0 to 204\n",
      "Data columns (total 3 columns):\n",
      " #   Column          Non-Null Count  Dtype  \n",
      "---  ------          --------------  -----  \n",
      " 0   nbh_pol_new     205 non-null    object \n",
      " 1   nbh_pol_encode  205 non-null    float64\n",
      " 2   event_time      205 non-null    float64\n",
      "dtypes: float64(2), object(1)\n",
      "memory usage: 4.9+ KB\n"
     ]
    }
   ],
   "source": [
    "encode_df.info()"
   ]
  },
  {
   "cell_type": "markdown",
   "id": "99277e85-8228-4a84-bb38-93448eb5b94a",
   "metadata": {
    "tags": []
   },
   "source": [
    "### Load Feature Defintions"
   ]
  },
  {
   "cell_type": "code",
   "execution_count": 41,
   "id": "bb0570b0-1bfe-4088-a62a-4fafc6fa0aef",
   "metadata": {},
   "outputs": [
    {
     "data": {
      "text/plain": [
       "[FeatureDefinition(feature_name='nbh_pol', feature_type=<FeatureTypeEnum.STRING: 'String'>, collection_type=None),\n",
       " FeatureDefinition(feature_name='med_hse_val', feature_type=<FeatureTypeEnum.FRACTIONAL: 'Fractional'>, collection_type=None),\n",
       " FeatureDefinition(feature_name='hse_med_age', feature_type=<FeatureTypeEnum.FRACTIONAL: 'Fractional'>, collection_type=None),\n",
       " FeatureDefinition(feature_name='tot_house', feature_type=<FeatureTypeEnum.FRACTIONAL: 'Fractional'>, collection_type=None),\n",
       " FeatureDefinition(feature_name='tot_bed', feature_type=<FeatureTypeEnum.FRACTIONAL: 'Fractional'>, collection_type=None),\n",
       " FeatureDefinition(feature_name='loc_pol', feature_type=<FeatureTypeEnum.FRACTIONAL: 'Fractional'>, collection_type=None),\n",
       " FeatureDefinition(feature_name='avg_house', feature_type=<FeatureTypeEnum.FRACTIONAL: 'Fractional'>, collection_type=None),\n",
       " FeatureDefinition(feature_name='avg_bed', feature_type=<FeatureTypeEnum.FRACTIONAL: 'Fractional'>, collection_type=None),\n",
       " FeatureDefinition(feature_name='avg_bed_per_house', feature_type=<FeatureTypeEnum.FRACTIONAL: 'Fractional'>, collection_type=None),\n",
       " FeatureDefinition(feature_name='ls_1_ocn', feature_type=<FeatureTypeEnum.FRACTIONAL: 'Fractional'>, collection_type=None),\n",
       " FeatureDefinition(feature_name='inland', feature_type=<FeatureTypeEnum.FRACTIONAL: 'Fractional'>, collection_type=None),\n",
       " FeatureDefinition(feature_name='nr_bay', feature_type=<FeatureTypeEnum.FRACTIONAL: 'Fractional'>, collection_type=None),\n",
       " FeatureDefinition(feature_name='nr_ocn', feature_type=<FeatureTypeEnum.FRACTIONAL: 'Fractional'>, collection_type=None),\n",
       " FeatureDefinition(feature_name='bed_per_hse', feature_type=<FeatureTypeEnum.FRACTIONAL: 'Fractional'>, collection_type=None),\n",
       " FeatureDefinition(feature_name='event_time', feature_type=<FeatureTypeEnum.FRACTIONAL: 'Fractional'>, collection_type=None)]"
      ]
     },
     "execution_count": 41,
     "metadata": {},
     "output_type": "execute_result"
    }
   ],
   "source": [
    "neighborhood_feature_group.load_feature_definitions(data_frame=new_df)"
   ]
  },
  {
   "cell_type": "code",
   "execution_count": 42,
   "id": "96d2cb02-65de-4501-97d3-d3a3ada7ce56",
   "metadata": {},
   "outputs": [
    {
     "data": {
      "text/plain": [
       "[FeatureDefinition(feature_name='nbh_pol_new', feature_type=<FeatureTypeEnum.STRING: 'String'>, collection_type=None),\n",
       " FeatureDefinition(feature_name='nbh_pol_encode', feature_type=<FeatureTypeEnum.FRACTIONAL: 'Fractional'>, collection_type=None),\n",
       " FeatureDefinition(feature_name='event_time', feature_type=<FeatureTypeEnum.FRACTIONAL: 'Fractional'>, collection_type=None)]"
      ]
     },
     "execution_count": 42,
     "metadata": {},
     "output_type": "execute_result"
    }
   ],
   "source": [
    "encoded_feature_group.load_feature_definitions(data_frame=encode_df)"
   ]
  },
  {
   "cell_type": "markdown",
   "id": "d0357825-989b-4bd7-8c85-f07a521accb5",
   "metadata": {},
   "source": [
    "### Create a Feature Group"
   ]
  },
  {
   "cell_type": "code",
   "execution_count": 43,
   "id": "47574031-3bdf-4a43-8aa1-5a7c38a3205d",
   "metadata": {
    "tags": []
   },
   "outputs": [
    {
     "name": "stdout",
     "output_type": "stream",
     "text": [
      "Waiting for Feature Group Creation\n",
      "Waiting for Feature Group Creation\n",
      "Waiting for Feature Group Creation\n",
      "FeatureGroup neighborhood-feature-group-24-20-56-29 successfully created.\n",
      "Waiting for Feature Group Creation\n",
      "FeatureGroup encoded-feature-group-24-20-56-29 successfully created.\n"
     ]
    }
   ],
   "source": [
    "neighborhood_feature_group.create(\n",
    "    s3_uri=f\"s3://{default_s3_bucket_name}/{prefix}\",\n",
    "    record_identifier_name=primary_key_identifier,\n",
    "    event_time_feature_name=event_time_identifier,\n",
    "    role_arn=role,\n",
    "    enable_online_store=True,\n",
    ")\n",
    "\n",
    "encoded_feature_group.create(\n",
    "    s3_uri=f\"s3://{default_s3_bucket_name}/{prefix}\",\n",
    "    record_identifier_name=secondary_key_identifier,\n",
    "    event_time_feature_name=event_time_identifier,\n",
    "    role_arn=role,\n",
    "    enable_online_store=True,\n",
    ")\n",
    "\n",
    "wait_for_feature_group_creation_complete(feature_group=neighborhood_feature_group)\n",
    "wait_for_feature_group_creation_complete(feature_group=encoded_feature_group)"
   ]
  },
  {
   "cell_type": "markdown",
   "id": "1b825c64-6d35-4dea-842f-4df68960ce0b",
   "metadata": {},
   "source": [
    "### Checking Results + Putting Records In"
   ]
  },
  {
   "cell_type": "code",
   "execution_count": 44,
   "id": "f90fb122-6016-4f07-88d8-c6c8ac1f7e5a",
   "metadata": {},
   "outputs": [
    {
     "data": {
      "text/plain": [
       "{'FeatureGroupArn': 'arn:aws:sagemaker:us-east-1:004608622582:feature-group/neighborhood-feature-group-24-20-56-29',\n",
       " 'FeatureGroupName': 'neighborhood-feature-group-24-20-56-29',\n",
       " 'RecordIdentifierFeatureName': 'nbh_pol',\n",
       " 'EventTimeFeatureName': 'event_time',\n",
       " 'FeatureDefinitions': [{'FeatureName': 'nbh_pol', 'FeatureType': 'String'},\n",
       "  {'FeatureName': 'med_hse_val', 'FeatureType': 'Fractional'},\n",
       "  {'FeatureName': 'hse_med_age', 'FeatureType': 'Fractional'},\n",
       "  {'FeatureName': 'tot_house', 'FeatureType': 'Fractional'},\n",
       "  {'FeatureName': 'tot_bed', 'FeatureType': 'Fractional'},\n",
       "  {'FeatureName': 'loc_pol', 'FeatureType': 'Fractional'},\n",
       "  {'FeatureName': 'avg_house', 'FeatureType': 'Fractional'},\n",
       "  {'FeatureName': 'avg_bed', 'FeatureType': 'Fractional'},\n",
       "  {'FeatureName': 'avg_bed_per_house', 'FeatureType': 'Fractional'},\n",
       "  {'FeatureName': 'ls_1_ocn', 'FeatureType': 'Fractional'},\n",
       "  {'FeatureName': 'inland', 'FeatureType': 'Fractional'},\n",
       "  {'FeatureName': 'nr_bay', 'FeatureType': 'Fractional'},\n",
       "  {'FeatureName': 'nr_ocn', 'FeatureType': 'Fractional'},\n",
       "  {'FeatureName': 'bed_per_hse', 'FeatureType': 'Fractional'},\n",
       "  {'FeatureName': 'event_time', 'FeatureType': 'Fractional'}],\n",
       " 'CreationTime': datetime.datetime(2024, 5, 24, 20, 56, 30, 717000, tzinfo=tzlocal()),\n",
       " 'OnlineStoreConfig': {'EnableOnlineStore': True},\n",
       " 'OfflineStoreConfig': {'S3StorageConfig': {'S3Uri': 's3://sagemaker-us-east-1-004608622582/sagemaker-featurestore-demo',\n",
       "   'ResolvedOutputS3Uri': 's3://sagemaker-us-east-1-004608622582/sagemaker-featurestore-demo/004608622582/sagemaker/us-east-1/offline-store/neighborhood-feature-group-24-20-56-29-1716584190/data'},\n",
       "  'DisableGlueTableCreation': False,\n",
       "  'DataCatalogConfig': {'TableName': 'neighborhood_feature_group_24_20_56_29_1716584190',\n",
       "   'Catalog': 'AwsDataCatalog',\n",
       "   'Database': 'sagemaker_featurestore'}},\n",
       " 'ThroughputConfig': {'ThroughputMode': 'OnDemand'},\n",
       " 'RoleArn': 'arn:aws:iam::004608622582:role/LabRole',\n",
       " 'FeatureGroupStatus': 'Created',\n",
       " 'OnlineStoreTotalSizeBytes': 0,\n",
       " 'ResponseMetadata': {'RequestId': '5f0a3db2-6997-41ce-be82-7f490aad88f3',\n",
       "  'HTTPStatusCode': 200,\n",
       "  'HTTPHeaders': {'x-amzn-requestid': '5f0a3db2-6997-41ce-be82-7f490aad88f3',\n",
       "   'content-type': 'application/x-amz-json-1.1',\n",
       "   'content-length': '2248',\n",
       "   'date': 'Fri, 24 May 2024 20:56:53 GMT'},\n",
       "  'RetryAttempts': 0}}"
      ]
     },
     "execution_count": 44,
     "metadata": {},
     "output_type": "execute_result"
    }
   ],
   "source": [
    "neighborhood_feature_group.describe()"
   ]
  },
  {
   "cell_type": "code",
   "execution_count": 46,
   "id": "63e557e5-c0d3-4b42-bab7-bac863f812c9",
   "metadata": {
    "tags": []
   },
   "outputs": [
    {
     "data": {
      "text/plain": [
       "{'FeatureGroupArn': 'arn:aws:sagemaker:us-east-1:004608622582:feature-group/encoded-feature-group-24-20-56-29',\n",
       " 'FeatureGroupName': 'encoded-feature-group-24-20-56-29',\n",
       " 'RecordIdentifierFeatureName': 'nbh_pol_new',\n",
       " 'EventTimeFeatureName': 'event_time',\n",
       " 'FeatureDefinitions': [{'FeatureName': 'nbh_pol_new',\n",
       "   'FeatureType': 'String'},\n",
       "  {'FeatureName': 'nbh_pol_encode', 'FeatureType': 'Fractional'},\n",
       "  {'FeatureName': 'event_time', 'FeatureType': 'Fractional'}],\n",
       " 'CreationTime': datetime.datetime(2024, 5, 24, 20, 56, 32, 482000, tzinfo=tzlocal()),\n",
       " 'OnlineStoreConfig': {'EnableOnlineStore': True},\n",
       " 'OfflineStoreConfig': {'S3StorageConfig': {'S3Uri': 's3://sagemaker-us-east-1-004608622582/sagemaker-featurestore-demo',\n",
       "   'ResolvedOutputS3Uri': 's3://sagemaker-us-east-1-004608622582/sagemaker-featurestore-demo/004608622582/sagemaker/us-east-1/offline-store/encoded-feature-group-24-20-56-29-1716584192/data'},\n",
       "  'DisableGlueTableCreation': False,\n",
       "  'DataCatalogConfig': {'TableName': 'encoded_feature_group_24_20_56_29_1716584192',\n",
       "   'Catalog': 'AwsDataCatalog',\n",
       "   'Database': 'sagemaker_featurestore'}},\n",
       " 'ThroughputConfig': {'ThroughputMode': 'OnDemand'},\n",
       " 'RoleArn': 'arn:aws:iam::004608622582:role/LabRole',\n",
       " 'FeatureGroupStatus': 'Created',\n",
       " 'OnlineStoreTotalSizeBytes': 0,\n",
       " 'ResponseMetadata': {'RequestId': '62b190da-bd03-4690-800f-a1767f7729e3',\n",
       "  'HTTPStatusCode': 200,\n",
       "  'HTTPHeaders': {'x-amzn-requestid': '62b190da-bd03-4690-800f-a1767f7729e3',\n",
       "   'content-type': 'application/x-amz-json-1.1',\n",
       "   'content-length': '1583',\n",
       "   'date': 'Fri, 24 May 2024 20:57:01 GMT'},\n",
       "  'RetryAttempts': 0}}"
      ]
     },
     "execution_count": 46,
     "metadata": {},
     "output_type": "execute_result"
    }
   ],
   "source": [
    "encoded_feature_group.describe()"
   ]
  },
  {
   "cell_type": "code",
   "execution_count": 48,
   "id": "4f363f5c-b071-4f00-bbce-1101dffe06d3",
   "metadata": {
    "tags": []
   },
   "outputs": [
    {
     "data": {
      "text/plain": [
       "IngestionManagerPandas(feature_group_name='neighborhood-feature-group-24-20-56-29', feature_definitions={'nbh_pol': {'FeatureName': 'nbh_pol', 'FeatureType': 'String'}, 'med_hse_val': {'FeatureName': 'med_hse_val', 'FeatureType': 'Fractional'}, 'hse_med_age': {'FeatureName': 'hse_med_age', 'FeatureType': 'Fractional'}, 'tot_house': {'FeatureName': 'tot_house', 'FeatureType': 'Fractional'}, 'tot_bed': {'FeatureName': 'tot_bed', 'FeatureType': 'Fractional'}, 'loc_pol': {'FeatureName': 'loc_pol', 'FeatureType': 'Fractional'}, 'avg_house': {'FeatureName': 'avg_house', 'FeatureType': 'Fractional'}, 'avg_bed': {'FeatureName': 'avg_bed', 'FeatureType': 'Fractional'}, 'avg_bed_per_house': {'FeatureName': 'avg_bed_per_house', 'FeatureType': 'Fractional'}, 'ls_1_ocn': {'FeatureName': 'ls_1_ocn', 'FeatureType': 'Fractional'}, 'inland': {'FeatureName': 'inland', 'FeatureType': 'Fractional'}, 'nr_bay': {'FeatureName': 'nr_bay', 'FeatureType': 'Fractional'}, 'nr_ocn': {'FeatureName': 'nr_ocn', 'FeatureType': 'Fractional'}, 'bed_per_hse': {'FeatureName': 'bed_per_hse', 'FeatureType': 'Fractional'}, 'event_time': {'FeatureName': 'event_time', 'FeatureType': 'Fractional'}}, sagemaker_fs_runtime_client_config=<botocore.config.Config object at 0x7f568d93b100>, sagemaker_session=<sagemaker.session.Session object at 0x7f568d9d4730>, max_workers=3, max_processes=1, profile_name=None, _async_result=<multiprocess.pool.MapResult object at 0x7f568d9661a0>, _processing_pool=<pool ProcessPool(ncpus=1)>, _failed_indices=[])"
      ]
     },
     "execution_count": 48,
     "metadata": {},
     "output_type": "execute_result"
    }
   ],
   "source": [
    "neighborhood_feature_group.ingest(data_frame=new_df, max_workers=3, wait=True)"
   ]
  },
  {
   "cell_type": "code",
   "execution_count": 49,
   "id": "abc18dcc-6c70-4fa3-93ac-d34a66462146",
   "metadata": {
    "tags": []
   },
   "outputs": [
    {
     "data": {
      "text/plain": [
       "IngestionManagerPandas(feature_group_name='encoded-feature-group-24-20-56-29', feature_definitions={'nbh_pol_new': {'FeatureName': 'nbh_pol_new', 'FeatureType': 'String'}, 'nbh_pol_encode': {'FeatureName': 'nbh_pol_encode', 'FeatureType': 'Fractional'}, 'event_time': {'FeatureName': 'event_time', 'FeatureType': 'Fractional'}}, sagemaker_fs_runtime_client_config=<botocore.config.Config object at 0x7f568d93b100>, sagemaker_session=<sagemaker.session.Session object at 0x7f568d9d4730>, max_workers=5, max_processes=1, profile_name=None, _async_result=<multiprocess.pool.MapResult object at 0x7f568d9663e0>, _processing_pool=<pool ProcessPool(ncpus=1)>, _failed_indices=[])"
      ]
     },
     "execution_count": 49,
     "metadata": {},
     "output_type": "execute_result"
    }
   ],
   "source": [
    "encoded_feature_group.ingest(data_frame=encode_df, max_workers=5, wait=True)"
   ]
  },
  {
   "cell_type": "code",
   "execution_count": 52,
   "id": "da840b4b-9a12-4458-99df-8440ddc3949b",
   "metadata": {
    "tags": []
   },
   "outputs": [
    {
     "data": {
      "text/plain": [
       "{'ResponseMetadata': {'RequestId': '524106e0-3df5-48df-bfe4-0b5ca3f12fc3',\n",
       "  'HTTPStatusCode': 200,\n",
       "  'HTTPHeaders': {'x-amzn-requestid': '524106e0-3df5-48df-bfe4-0b5ca3f12fc3',\n",
       "   'content-type': 'application/json',\n",
       "   'content-length': '1054',\n",
       "   'date': 'Fri, 24 May 2024 21:01:11 GMT'},\n",
       "  'RetryAttempts': 0},\n",
       " 'Record': [{'FeatureName': 'nbh_pol', 'ValueAsString': 'Brooktree'},\n",
       "  {'FeatureName': 'med_hse_val', 'ValueAsString': '257400.0'},\n",
       "  {'FeatureName': 'hse_med_age', 'ValueAsString': '9.0'},\n",
       "  {'FeatureName': 'tot_house', 'ValueAsString': '1438.0'},\n",
       "  {'FeatureName': 'loc_pol', 'ValueAsString': '182.0'},\n",
       "  {'FeatureName': 'avg_house', 'ValueAsString': '532.5061475409836'},\n",
       "  {'FeatureName': 'avg_bed', 'ValueAsString': '548.5381443298969'},\n",
       "  {'FeatureName': 'avg_bed_per_house', 'ValueAsString': '1.0'},\n",
       "  {'FeatureName': 'ls_1_ocn', 'ValueAsString': '1.0'},\n",
       "  {'FeatureName': 'inland', 'ValueAsString': '0.0'},\n",
       "  {'FeatureName': 'nr_bay', 'ValueAsString': '0.0'},\n",
       "  {'FeatureName': 'nr_ocn', 'ValueAsString': '0.0'},\n",
       "  {'FeatureName': 'event_time', 'ValueAsString': '1716584186.0'}]}"
      ]
     },
     "execution_count": 52,
     "metadata": {},
     "output_type": "execute_result"
    }
   ],
   "source": [
    "### Grabbing the Record from the online store\n",
    "record_identifier_value = 'Brooktree'\n",
    "\n",
    "featurestore_runtime.get_record(\n",
    "    FeatureGroupName=neighborhood_feature_group_name,\n",
    "    RecordIdentifierValueAsString=record_identifier_value,\n",
    ")"
   ]
  },
  {
   "cell_type": "code",
   "execution_count": 53,
   "id": "4fb9dab0-6503-4dbf-9ebe-698ea7f246b0",
   "metadata": {
    "tags": []
   },
   "outputs": [
    {
     "data": {
      "text/plain": [
       "{'ResponseMetadata': {'RequestId': '00c5eaad-81ae-41c5-a99d-c4084c43bded',\n",
       "  'HTTPStatusCode': 200,\n",
       "  'HTTPHeaders': {'x-amzn-requestid': '00c5eaad-81ae-41c5-a99d-c4084c43bded',\n",
       "   'content-type': 'application/json',\n",
       "   'content-length': '1204',\n",
       "   'date': 'Fri, 24 May 2024 21:01:13 GMT'},\n",
       "  'RetryAttempts': 0},\n",
       " 'Record': [{'FeatureName': 'nbh_pol', 'ValueAsString': \"Fisherman's Wharf\"},\n",
       "  {'FeatureName': 'med_hse_val', 'ValueAsString': '500001.0'},\n",
       "  {'FeatureName': 'hse_med_age', 'ValueAsString': '52.0'},\n",
       "  {'FeatureName': 'tot_house', 'ValueAsString': '250.0'},\n",
       "  {'FeatureName': 'tot_bed', 'ValueAsString': '317.0'},\n",
       "  {'FeatureName': 'loc_pol', 'ValueAsString': '160.0'},\n",
       "  {'FeatureName': 'avg_house', 'ValueAsString': '501.0'},\n",
       "  {'FeatureName': 'avg_bed', 'ValueAsString': '535.3848987108655'},\n",
       "  {'FeatureName': 'avg_bed_per_house', 'ValueAsString': '1.0'},\n",
       "  {'FeatureName': 'ls_1_ocn', 'ValueAsString': '0.0'},\n",
       "  {'FeatureName': 'inland', 'ValueAsString': '0.0'},\n",
       "  {'FeatureName': 'nr_bay', 'ValueAsString': '1.0'},\n",
       "  {'FeatureName': 'nr_ocn', 'ValueAsString': '0.0'},\n",
       "  {'FeatureName': 'bed_per_hse', 'ValueAsString': '1.268'},\n",
       "  {'FeatureName': 'event_time', 'ValueAsString': '1716584186.0'}]}"
      ]
     },
     "execution_count": 53,
     "metadata": {},
     "output_type": "execute_result"
    }
   ],
   "source": [
    "record_identifier_value = \"Fisherman's Wharf\"\n",
    "\n",
    "featurestore_runtime.get_record(\n",
    "    FeatureGroupName=neighborhood_feature_group_name,\n",
    "    RecordIdentifierValueAsString=record_identifier_value,\n",
    ")"
   ]
  },
  {
   "cell_type": "code",
   "execution_count": 54,
   "id": "d6cd8887-d199-4e64-9330-00befe28302d",
   "metadata": {
    "tags": []
   },
   "outputs": [
    {
     "data": {
      "text/plain": [
       "{'ResponseMetadata': {'RequestId': '010e5a93-7e39-4eca-95e4-337f31c914aa',\n",
       "  'HTTPStatusCode': 200,\n",
       "  'HTTPHeaders': {'x-amzn-requestid': '010e5a93-7e39-4eca-95e4-337f31c914aa',\n",
       "   'content-type': 'application/json',\n",
       "   'content-length': '1200',\n",
       "   'date': 'Fri, 24 May 2024 21:01:15 GMT'},\n",
       "  'RetryAttempts': 0},\n",
       " 'Record': [{'FeatureName': 'nbh_pol', 'ValueAsString': 'Los Osos'},\n",
       "  {'FeatureName': 'med_hse_val', 'ValueAsString': '221612.5'},\n",
       "  {'FeatureName': 'hse_med_age', 'ValueAsString': '15.375'},\n",
       "  {'FeatureName': 'tot_house', 'ValueAsString': '611.75'},\n",
       "  {'FeatureName': 'tot_bed', 'ValueAsString': '642.5'},\n",
       "  {'FeatureName': 'loc_pol', 'ValueAsString': '163.0'},\n",
       "  {'FeatureName': 'avg_house', 'ValueAsString': '611.75'},\n",
       "  {'FeatureName': 'avg_bed', 'ValueAsString': '642.5'},\n",
       "  {'FeatureName': 'avg_bed_per_house', 'ValueAsString': '1.0'},\n",
       "  {'FeatureName': 'ls_1_ocn', 'ValueAsString': '0.0'},\n",
       "  {'FeatureName': 'inland', 'ValueAsString': '0.0'},\n",
       "  {'FeatureName': 'nr_bay', 'ValueAsString': '0.0'},\n",
       "  {'FeatureName': 'nr_ocn', 'ValueAsString': '1.0'},\n",
       "  {'FeatureName': 'bed_per_hse', 'ValueAsString': '1.0502656313853698'},\n",
       "  {'FeatureName': 'event_time', 'ValueAsString': '1716584186.0'}]}"
      ]
     },
     "execution_count": 54,
     "metadata": {},
     "output_type": "execute_result"
    }
   ],
   "source": [
    "record_identifier_value = 'Los Osos'\n",
    "\n",
    "featurestore_runtime.get_record(\n",
    "    FeatureGroupName=neighborhood_feature_group_name,\n",
    "    RecordIdentifierValueAsString=record_identifier_value,\n",
    ")"
   ]
  },
  {
   "cell_type": "code",
   "execution_count": 45,
   "id": "22a2e03b-60c1-4dd0-8f8e-a3584228eb09",
   "metadata": {},
   "outputs": [
    {
     "ename": "NameError",
     "evalue": "name 'a' is not defined",
     "output_type": "error",
     "traceback": [
      "\u001b[0;31m---------------------------------------------------------------------------\u001b[0m",
      "\u001b[0;31mNameError\u001b[0m                                 Traceback (most recent call last)",
      "Cell \u001b[0;32mIn[45], line 1\u001b[0m\n\u001b[0;32m----> 1\u001b[0m \u001b[43ma\u001b[49m\n",
      "\u001b[0;31mNameError\u001b[0m: name 'a' is not defined"
     ]
    }
   ],
   "source": [
    "a"
   ]
  },
  {
   "cell_type": "code",
   "execution_count": null,
   "id": "9d1d3407-fae9-4268-86db-1043429b177d",
   "metadata": {
    "tags": []
   },
   "outputs": [],
   "source": [
    "%%html\n",
    "\n",
    "<p><b>Shutting down your kernel for this notebook to release resources.</b></p>\n",
    "<button class=\"sm-command-button\" data-commandlinker-command=\"kernelmenu:shutdown\" style=\"display:none;\">Shutdown Kernel</button>\n",
    "        \n",
    "<script>\n",
    "try {\n",
    "    els = document.getElementsByClassName(\"sm-command-button\");\n",
    "    els[0].click();\n",
    "}\n",
    "catch(err) {\n",
    "    // NoOp\n",
    "}    \n",
    "</script>"
   ]
  }
 ],
 "metadata": {
  "availableInstances": [
   {
    "_defaultOrder": 0,
    "_isFastLaunch": true,
    "category": "General purpose",
    "gpuNum": 0,
    "hideHardwareSpecs": false,
    "memoryGiB": 4,
    "name": "ml.t3.medium",
    "vcpuNum": 2
   },
   {
    "_defaultOrder": 1,
    "_isFastLaunch": false,
    "category": "General purpose",
    "gpuNum": 0,
    "hideHardwareSpecs": false,
    "memoryGiB": 8,
    "name": "ml.t3.large",
    "vcpuNum": 2
   },
   {
    "_defaultOrder": 2,
    "_isFastLaunch": false,
    "category": "General purpose",
    "gpuNum": 0,
    "hideHardwareSpecs": false,
    "memoryGiB": 16,
    "name": "ml.t3.xlarge",
    "vcpuNum": 4
   },
   {
    "_defaultOrder": 3,
    "_isFastLaunch": false,
    "category": "General purpose",
    "gpuNum": 0,
    "hideHardwareSpecs": false,
    "memoryGiB": 32,
    "name": "ml.t3.2xlarge",
    "vcpuNum": 8
   },
   {
    "_defaultOrder": 4,
    "_isFastLaunch": true,
    "category": "General purpose",
    "gpuNum": 0,
    "hideHardwareSpecs": false,
    "memoryGiB": 8,
    "name": "ml.m5.large",
    "vcpuNum": 2
   },
   {
    "_defaultOrder": 5,
    "_isFastLaunch": false,
    "category": "General purpose",
    "gpuNum": 0,
    "hideHardwareSpecs": false,
    "memoryGiB": 16,
    "name": "ml.m5.xlarge",
    "vcpuNum": 4
   },
   {
    "_defaultOrder": 6,
    "_isFastLaunch": false,
    "category": "General purpose",
    "gpuNum": 0,
    "hideHardwareSpecs": false,
    "memoryGiB": 32,
    "name": "ml.m5.2xlarge",
    "vcpuNum": 8
   },
   {
    "_defaultOrder": 7,
    "_isFastLaunch": false,
    "category": "General purpose",
    "gpuNum": 0,
    "hideHardwareSpecs": false,
    "memoryGiB": 64,
    "name": "ml.m5.4xlarge",
    "vcpuNum": 16
   },
   {
    "_defaultOrder": 8,
    "_isFastLaunch": false,
    "category": "General purpose",
    "gpuNum": 0,
    "hideHardwareSpecs": false,
    "memoryGiB": 128,
    "name": "ml.m5.8xlarge",
    "vcpuNum": 32
   },
   {
    "_defaultOrder": 9,
    "_isFastLaunch": false,
    "category": "General purpose",
    "gpuNum": 0,
    "hideHardwareSpecs": false,
    "memoryGiB": 192,
    "name": "ml.m5.12xlarge",
    "vcpuNum": 48
   },
   {
    "_defaultOrder": 10,
    "_isFastLaunch": false,
    "category": "General purpose",
    "gpuNum": 0,
    "hideHardwareSpecs": false,
    "memoryGiB": 256,
    "name": "ml.m5.16xlarge",
    "vcpuNum": 64
   },
   {
    "_defaultOrder": 11,
    "_isFastLaunch": false,
    "category": "General purpose",
    "gpuNum": 0,
    "hideHardwareSpecs": false,
    "memoryGiB": 384,
    "name": "ml.m5.24xlarge",
    "vcpuNum": 96
   },
   {
    "_defaultOrder": 12,
    "_isFastLaunch": false,
    "category": "General purpose",
    "gpuNum": 0,
    "hideHardwareSpecs": false,
    "memoryGiB": 8,
    "name": "ml.m5d.large",
    "vcpuNum": 2
   },
   {
    "_defaultOrder": 13,
    "_isFastLaunch": false,
    "category": "General purpose",
    "gpuNum": 0,
    "hideHardwareSpecs": false,
    "memoryGiB": 16,
    "name": "ml.m5d.xlarge",
    "vcpuNum": 4
   },
   {
    "_defaultOrder": 14,
    "_isFastLaunch": false,
    "category": "General purpose",
    "gpuNum": 0,
    "hideHardwareSpecs": false,
    "memoryGiB": 32,
    "name": "ml.m5d.2xlarge",
    "vcpuNum": 8
   },
   {
    "_defaultOrder": 15,
    "_isFastLaunch": false,
    "category": "General purpose",
    "gpuNum": 0,
    "hideHardwareSpecs": false,
    "memoryGiB": 64,
    "name": "ml.m5d.4xlarge",
    "vcpuNum": 16
   },
   {
    "_defaultOrder": 16,
    "_isFastLaunch": false,
    "category": "General purpose",
    "gpuNum": 0,
    "hideHardwareSpecs": false,
    "memoryGiB": 128,
    "name": "ml.m5d.8xlarge",
    "vcpuNum": 32
   },
   {
    "_defaultOrder": 17,
    "_isFastLaunch": false,
    "category": "General purpose",
    "gpuNum": 0,
    "hideHardwareSpecs": false,
    "memoryGiB": 192,
    "name": "ml.m5d.12xlarge",
    "vcpuNum": 48
   },
   {
    "_defaultOrder": 18,
    "_isFastLaunch": false,
    "category": "General purpose",
    "gpuNum": 0,
    "hideHardwareSpecs": false,
    "memoryGiB": 256,
    "name": "ml.m5d.16xlarge",
    "vcpuNum": 64
   },
   {
    "_defaultOrder": 19,
    "_isFastLaunch": false,
    "category": "General purpose",
    "gpuNum": 0,
    "hideHardwareSpecs": false,
    "memoryGiB": 384,
    "name": "ml.m5d.24xlarge",
    "vcpuNum": 96
   },
   {
    "_defaultOrder": 20,
    "_isFastLaunch": false,
    "category": "General purpose",
    "gpuNum": 0,
    "hideHardwareSpecs": true,
    "memoryGiB": 0,
    "name": "ml.geospatial.interactive",
    "supportedImageNames": [
     "sagemaker-geospatial-v1-0"
    ],
    "vcpuNum": 0
   },
   {
    "_defaultOrder": 21,
    "_isFastLaunch": true,
    "category": "Compute optimized",
    "gpuNum": 0,
    "hideHardwareSpecs": false,
    "memoryGiB": 4,
    "name": "ml.c5.large",
    "vcpuNum": 2
   },
   {
    "_defaultOrder": 22,
    "_isFastLaunch": false,
    "category": "Compute optimized",
    "gpuNum": 0,
    "hideHardwareSpecs": false,
    "memoryGiB": 8,
    "name": "ml.c5.xlarge",
    "vcpuNum": 4
   },
   {
    "_defaultOrder": 23,
    "_isFastLaunch": false,
    "category": "Compute optimized",
    "gpuNum": 0,
    "hideHardwareSpecs": false,
    "memoryGiB": 16,
    "name": "ml.c5.2xlarge",
    "vcpuNum": 8
   },
   {
    "_defaultOrder": 24,
    "_isFastLaunch": false,
    "category": "Compute optimized",
    "gpuNum": 0,
    "hideHardwareSpecs": false,
    "memoryGiB": 32,
    "name": "ml.c5.4xlarge",
    "vcpuNum": 16
   },
   {
    "_defaultOrder": 25,
    "_isFastLaunch": false,
    "category": "Compute optimized",
    "gpuNum": 0,
    "hideHardwareSpecs": false,
    "memoryGiB": 72,
    "name": "ml.c5.9xlarge",
    "vcpuNum": 36
   },
   {
    "_defaultOrder": 26,
    "_isFastLaunch": false,
    "category": "Compute optimized",
    "gpuNum": 0,
    "hideHardwareSpecs": false,
    "memoryGiB": 96,
    "name": "ml.c5.12xlarge",
    "vcpuNum": 48
   },
   {
    "_defaultOrder": 27,
    "_isFastLaunch": false,
    "category": "Compute optimized",
    "gpuNum": 0,
    "hideHardwareSpecs": false,
    "memoryGiB": 144,
    "name": "ml.c5.18xlarge",
    "vcpuNum": 72
   },
   {
    "_defaultOrder": 28,
    "_isFastLaunch": false,
    "category": "Compute optimized",
    "gpuNum": 0,
    "hideHardwareSpecs": false,
    "memoryGiB": 192,
    "name": "ml.c5.24xlarge",
    "vcpuNum": 96
   },
   {
    "_defaultOrder": 29,
    "_isFastLaunch": true,
    "category": "Accelerated computing",
    "gpuNum": 1,
    "hideHardwareSpecs": false,
    "memoryGiB": 16,
    "name": "ml.g4dn.xlarge",
    "vcpuNum": 4
   },
   {
    "_defaultOrder": 30,
    "_isFastLaunch": false,
    "category": "Accelerated computing",
    "gpuNum": 1,
    "hideHardwareSpecs": false,
    "memoryGiB": 32,
    "name": "ml.g4dn.2xlarge",
    "vcpuNum": 8
   },
   {
    "_defaultOrder": 31,
    "_isFastLaunch": false,
    "category": "Accelerated computing",
    "gpuNum": 1,
    "hideHardwareSpecs": false,
    "memoryGiB": 64,
    "name": "ml.g4dn.4xlarge",
    "vcpuNum": 16
   },
   {
    "_defaultOrder": 32,
    "_isFastLaunch": false,
    "category": "Accelerated computing",
    "gpuNum": 1,
    "hideHardwareSpecs": false,
    "memoryGiB": 128,
    "name": "ml.g4dn.8xlarge",
    "vcpuNum": 32
   },
   {
    "_defaultOrder": 33,
    "_isFastLaunch": false,
    "category": "Accelerated computing",
    "gpuNum": 4,
    "hideHardwareSpecs": false,
    "memoryGiB": 192,
    "name": "ml.g4dn.12xlarge",
    "vcpuNum": 48
   },
   {
    "_defaultOrder": 34,
    "_isFastLaunch": false,
    "category": "Accelerated computing",
    "gpuNum": 1,
    "hideHardwareSpecs": false,
    "memoryGiB": 256,
    "name": "ml.g4dn.16xlarge",
    "vcpuNum": 64
   },
   {
    "_defaultOrder": 35,
    "_isFastLaunch": false,
    "category": "Accelerated computing",
    "gpuNum": 1,
    "hideHardwareSpecs": false,
    "memoryGiB": 61,
    "name": "ml.p3.2xlarge",
    "vcpuNum": 8
   },
   {
    "_defaultOrder": 36,
    "_isFastLaunch": false,
    "category": "Accelerated computing",
    "gpuNum": 4,
    "hideHardwareSpecs": false,
    "memoryGiB": 244,
    "name": "ml.p3.8xlarge",
    "vcpuNum": 32
   },
   {
    "_defaultOrder": 37,
    "_isFastLaunch": false,
    "category": "Accelerated computing",
    "gpuNum": 8,
    "hideHardwareSpecs": false,
    "memoryGiB": 488,
    "name": "ml.p3.16xlarge",
    "vcpuNum": 64
   },
   {
    "_defaultOrder": 38,
    "_isFastLaunch": false,
    "category": "Accelerated computing",
    "gpuNum": 8,
    "hideHardwareSpecs": false,
    "memoryGiB": 768,
    "name": "ml.p3dn.24xlarge",
    "vcpuNum": 96
   },
   {
    "_defaultOrder": 39,
    "_isFastLaunch": false,
    "category": "Memory Optimized",
    "gpuNum": 0,
    "hideHardwareSpecs": false,
    "memoryGiB": 16,
    "name": "ml.r5.large",
    "vcpuNum": 2
   },
   {
    "_defaultOrder": 40,
    "_isFastLaunch": false,
    "category": "Memory Optimized",
    "gpuNum": 0,
    "hideHardwareSpecs": false,
    "memoryGiB": 32,
    "name": "ml.r5.xlarge",
    "vcpuNum": 4
   },
   {
    "_defaultOrder": 41,
    "_isFastLaunch": false,
    "category": "Memory Optimized",
    "gpuNum": 0,
    "hideHardwareSpecs": false,
    "memoryGiB": 64,
    "name": "ml.r5.2xlarge",
    "vcpuNum": 8
   },
   {
    "_defaultOrder": 42,
    "_isFastLaunch": false,
    "category": "Memory Optimized",
    "gpuNum": 0,
    "hideHardwareSpecs": false,
    "memoryGiB": 128,
    "name": "ml.r5.4xlarge",
    "vcpuNum": 16
   },
   {
    "_defaultOrder": 43,
    "_isFastLaunch": false,
    "category": "Memory Optimized",
    "gpuNum": 0,
    "hideHardwareSpecs": false,
    "memoryGiB": 256,
    "name": "ml.r5.8xlarge",
    "vcpuNum": 32
   },
   {
    "_defaultOrder": 44,
    "_isFastLaunch": false,
    "category": "Memory Optimized",
    "gpuNum": 0,
    "hideHardwareSpecs": false,
    "memoryGiB": 384,
    "name": "ml.r5.12xlarge",
    "vcpuNum": 48
   },
   {
    "_defaultOrder": 45,
    "_isFastLaunch": false,
    "category": "Memory Optimized",
    "gpuNum": 0,
    "hideHardwareSpecs": false,
    "memoryGiB": 512,
    "name": "ml.r5.16xlarge",
    "vcpuNum": 64
   },
   {
    "_defaultOrder": 46,
    "_isFastLaunch": false,
    "category": "Memory Optimized",
    "gpuNum": 0,
    "hideHardwareSpecs": false,
    "memoryGiB": 768,
    "name": "ml.r5.24xlarge",
    "vcpuNum": 96
   },
   {
    "_defaultOrder": 47,
    "_isFastLaunch": false,
    "category": "Accelerated computing",
    "gpuNum": 1,
    "hideHardwareSpecs": false,
    "memoryGiB": 16,
    "name": "ml.g5.xlarge",
    "vcpuNum": 4
   },
   {
    "_defaultOrder": 48,
    "_isFastLaunch": false,
    "category": "Accelerated computing",
    "gpuNum": 1,
    "hideHardwareSpecs": false,
    "memoryGiB": 32,
    "name": "ml.g5.2xlarge",
    "vcpuNum": 8
   },
   {
    "_defaultOrder": 49,
    "_isFastLaunch": false,
    "category": "Accelerated computing",
    "gpuNum": 1,
    "hideHardwareSpecs": false,
    "memoryGiB": 64,
    "name": "ml.g5.4xlarge",
    "vcpuNum": 16
   },
   {
    "_defaultOrder": 50,
    "_isFastLaunch": false,
    "category": "Accelerated computing",
    "gpuNum": 1,
    "hideHardwareSpecs": false,
    "memoryGiB": 128,
    "name": "ml.g5.8xlarge",
    "vcpuNum": 32
   },
   {
    "_defaultOrder": 51,
    "_isFastLaunch": false,
    "category": "Accelerated computing",
    "gpuNum": 1,
    "hideHardwareSpecs": false,
    "memoryGiB": 256,
    "name": "ml.g5.16xlarge",
    "vcpuNum": 64
   },
   {
    "_defaultOrder": 52,
    "_isFastLaunch": false,
    "category": "Accelerated computing",
    "gpuNum": 4,
    "hideHardwareSpecs": false,
    "memoryGiB": 192,
    "name": "ml.g5.12xlarge",
    "vcpuNum": 48
   },
   {
    "_defaultOrder": 53,
    "_isFastLaunch": false,
    "category": "Accelerated computing",
    "gpuNum": 4,
    "hideHardwareSpecs": false,
    "memoryGiB": 384,
    "name": "ml.g5.24xlarge",
    "vcpuNum": 96
   },
   {
    "_defaultOrder": 54,
    "_isFastLaunch": false,
    "category": "Accelerated computing",
    "gpuNum": 8,
    "hideHardwareSpecs": false,
    "memoryGiB": 768,
    "name": "ml.g5.48xlarge",
    "vcpuNum": 192
   },
   {
    "_defaultOrder": 55,
    "_isFastLaunch": false,
    "category": "Accelerated computing",
    "gpuNum": 8,
    "hideHardwareSpecs": false,
    "memoryGiB": 1152,
    "name": "ml.p4d.24xlarge",
    "vcpuNum": 96
   },
   {
    "_defaultOrder": 56,
    "_isFastLaunch": false,
    "category": "Accelerated computing",
    "gpuNum": 8,
    "hideHardwareSpecs": false,
    "memoryGiB": 1152,
    "name": "ml.p4de.24xlarge",
    "vcpuNum": 96
   },
   {
    "_defaultOrder": 57,
    "_isFastLaunch": false,
    "category": "Accelerated computing",
    "gpuNum": 0,
    "hideHardwareSpecs": false,
    "memoryGiB": 32,
    "name": "ml.trn1.2xlarge",
    "vcpuNum": 8
   },
   {
    "_defaultOrder": 58,
    "_isFastLaunch": false,
    "category": "Accelerated computing",
    "gpuNum": 0,
    "hideHardwareSpecs": false,
    "memoryGiB": 512,
    "name": "ml.trn1.32xlarge",
    "vcpuNum": 128
   },
   {
    "_defaultOrder": 59,
    "_isFastLaunch": false,
    "category": "Accelerated computing",
    "gpuNum": 0,
    "hideHardwareSpecs": false,
    "memoryGiB": 512,
    "name": "ml.trn1n.32xlarge",
    "vcpuNum": 128
   }
  ],
  "instance_type": "ml.t3.medium",
  "kernelspec": {
   "display_name": "Python 3 (Data Science 3.0)",
   "language": "python",
   "name": "python3__SAGEMAKER_INTERNAL__arn:aws:sagemaker:us-east-1:081325390199:image/sagemaker-data-science-310-v1"
  },
  "language_info": {
   "codemirror_mode": {
    "name": "ipython",
    "version": 3
   },
   "file_extension": ".py",
   "mimetype": "text/x-python",
   "name": "python",
   "nbconvert_exporter": "python",
   "pygments_lexer": "ipython3",
   "version": "3.10.6"
  }
 },
 "nbformat": 4,
 "nbformat_minor": 5
}
